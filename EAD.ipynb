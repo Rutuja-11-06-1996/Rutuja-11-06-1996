{
 "cells": [
  {
   "cell_type": "markdown",
   "id": "495ff37e",
   "metadata": {},
   "source": [
    "# INTRODUCTION"
   ]
  },
  {
   "cell_type": "markdown",
   "id": "dcb33b46",
   "metadata": {},
   "source": [
    " ## Statlog Project Data Set"
   ]
  },
  {
   "cell_type": "markdown",
   "id": "c2653c2a",
   "metadata": {},
   "source": [
    "## Source:"
   ]
  },
  {
   "cell_type": "markdown",
   "id": "1d821907",
   "metadata": {},
   "source": [
    "Origin:\n",
    "\n",
    "The Stalog databases are a subset of the datasets used in the European Statlog project.\n",
    "\n",
    "Donor:\n",
    "\n",
    "Ross D. King\n",
    "\n",
    "Department of Statistics and Modelling Science\n",
    "\n",
    "University of Strathclyde\n",
    "\n",
    "Glasgow G1 1XH\n",
    "Scotland\n",
    "\n",
    "U.K."
   ]
  },
  {
   "cell_type": "markdown",
   "id": "d2bf22a5",
   "metadata": {},
   "source": [
    "## Data Set Information:\n",
    "\n",
    "The database available here were in used in the European StatLog project, which involves comparing the performances of machine learning, statistical, and neural network algorithms on data sets from real-world industrial areas including medicine, finance, image analysis, and engineering design.Here we Use The German Credit Dataset."
   ]
  },
  {
   "cell_type": "markdown",
   "id": "28971c77",
   "metadata": {},
   "source": [
    "### Database:"
   ]
  },
  {
   "cell_type": "markdown",
   "id": "5080f876",
   "metadata": {},
   "source": [
    "### German Credit:\n",
    "This dataset classifies people described by a set of attributes as good or bad credit The Variables of this Dataset are as follows:"
   ]
  },
  {
   "cell_type": "markdown",
   "id": "7cc8b299",
   "metadata": {},
   "source": [
    "* Here the Variable Age is numeric.\n",
    "* The Variable Sex is categorical it gives Two Catrgory Male And female.\n",
    "* The Variable Job gives Numerical Values.it Gives us 0, 1, 2 and 3. But it means 0 - unskilled and non-resident, 1 - unskilled and resident, 2 - skilled, 3 - Highly skilled\n",
    "* The Variable Housing is Categorical.it gives three category i.e. own, rent and free.\n",
    "* The Variable Saving accounts is categorical.it gives us four Category i.e. little, moderate, quite rich, rich.\n",
    "* The Varible Checking account is Categorical.it three Category i.e. little, moderate, rich.\n",
    "* The Variable Credit ammount is numeric. it is in Deutche Mark.\n",
    "* The Variable Duration is numeric is in month.\n",
    "* The Variable Purpose is Categorical is gives purpose i.e.car, furniture/equipment, radio/TV, domestic appliances, repairs, education, business, vacation/others"
   ]
  },
  {
   "cell_type": "code",
   "execution_count": 1,
   "id": "e0313fad",
   "metadata": {},
   "outputs": [],
   "source": [
    "# Importing the all Required libraries:\n",
    "import os\n",
    "# Data Manipulation\n",
    "import numpy as np \n",
    "import pandas as pd\n",
    "# Data Visualization\n",
    "import matplotlib.pyplot as plt\n",
    "import seaborn as sns"
   ]
  },
  {
   "cell_type": "markdown",
   "id": "de6086a9",
   "metadata": {},
   "source": [
    "* Here i Imported all required libraries,Those are needs for our data manipulation and data vizulization."
   ]
  },
  {
   "cell_type": "code",
   "execution_count": 2,
   "id": "05daee3e",
   "metadata": {},
   "outputs": [],
   "source": [
    "# Importing The German Credit Dataset\n",
    "German_Credit1 = pd.read_csv(\"C:/Users/DELL/Downloads/german_credit_data (2).csv\")"
   ]
  },
  {
   "cell_type": "markdown",
   "id": "7bbc13b9",
   "metadata": {},
   "source": [
    "* To Explore Data firstly we have to read data.to import data i used the pd.read function"
   ]
  },
  {
   "cell_type": "markdown",
   "id": "f46c2ee5",
   "metadata": {},
   "source": [
    "## Basic Exploration"
   ]
  },
  {
   "cell_type": "code",
   "execution_count": 3,
   "id": "15899376",
   "metadata": {},
   "outputs": [
    {
     "data": {
      "text/html": [
       "<div>\n",
       "<style scoped>\n",
       "    .dataframe tbody tr th:only-of-type {\n",
       "        vertical-align: middle;\n",
       "    }\n",
       "\n",
       "    .dataframe tbody tr th {\n",
       "        vertical-align: top;\n",
       "    }\n",
       "\n",
       "    .dataframe thead th {\n",
       "        text-align: right;\n",
       "    }\n",
       "</style>\n",
       "<table border=\"1\" class=\"dataframe\">\n",
       "  <thead>\n",
       "    <tr style=\"text-align: right;\">\n",
       "      <th></th>\n",
       "      <th>Unnamed: 0</th>\n",
       "      <th>Age</th>\n",
       "      <th>Sex</th>\n",
       "      <th>Job</th>\n",
       "      <th>Housing</th>\n",
       "      <th>Saving accounts</th>\n",
       "      <th>Checking account</th>\n",
       "      <th>Credit amount</th>\n",
       "      <th>Duration</th>\n",
       "      <th>Purpose</th>\n",
       "    </tr>\n",
       "  </thead>\n",
       "  <tbody>\n",
       "    <tr>\n",
       "      <th>0</th>\n",
       "      <td>0</td>\n",
       "      <td>67</td>\n",
       "      <td>male</td>\n",
       "      <td>2</td>\n",
       "      <td>own</td>\n",
       "      <td>NaN</td>\n",
       "      <td>little</td>\n",
       "      <td>1169</td>\n",
       "      <td>6</td>\n",
       "      <td>radio/TV</td>\n",
       "    </tr>\n",
       "    <tr>\n",
       "      <th>1</th>\n",
       "      <td>1</td>\n",
       "      <td>22</td>\n",
       "      <td>female</td>\n",
       "      <td>2</td>\n",
       "      <td>own</td>\n",
       "      <td>little</td>\n",
       "      <td>moderate</td>\n",
       "      <td>5951</td>\n",
       "      <td>48</td>\n",
       "      <td>radio/TV</td>\n",
       "    </tr>\n",
       "    <tr>\n",
       "      <th>2</th>\n",
       "      <td>2</td>\n",
       "      <td>49</td>\n",
       "      <td>male</td>\n",
       "      <td>1</td>\n",
       "      <td>own</td>\n",
       "      <td>little</td>\n",
       "      <td>NaN</td>\n",
       "      <td>2096</td>\n",
       "      <td>12</td>\n",
       "      <td>education</td>\n",
       "    </tr>\n",
       "    <tr>\n",
       "      <th>3</th>\n",
       "      <td>3</td>\n",
       "      <td>45</td>\n",
       "      <td>male</td>\n",
       "      <td>2</td>\n",
       "      <td>free</td>\n",
       "      <td>little</td>\n",
       "      <td>little</td>\n",
       "      <td>7882</td>\n",
       "      <td>42</td>\n",
       "      <td>furniture/equipment</td>\n",
       "    </tr>\n",
       "    <tr>\n",
       "      <th>4</th>\n",
       "      <td>4</td>\n",
       "      <td>53</td>\n",
       "      <td>male</td>\n",
       "      <td>2</td>\n",
       "      <td>free</td>\n",
       "      <td>little</td>\n",
       "      <td>little</td>\n",
       "      <td>4870</td>\n",
       "      <td>24</td>\n",
       "      <td>car</td>\n",
       "    </tr>\n",
       "  </tbody>\n",
       "</table>\n",
       "</div>"
      ],
      "text/plain": [
       "   Unnamed: 0  Age     Sex  Job Housing Saving accounts Checking account  \\\n",
       "0           0   67    male    2     own             NaN           little   \n",
       "1           1   22  female    2     own          little         moderate   \n",
       "2           2   49    male    1     own          little              NaN   \n",
       "3           3   45    male    2    free          little           little   \n",
       "4           4   53    male    2    free          little           little   \n",
       "\n",
       "   Credit amount  Duration              Purpose  \n",
       "0           1169         6             radio/TV  \n",
       "1           5951        48             radio/TV  \n",
       "2           2096        12            education  \n",
       "3           7882        42  furniture/equipment  \n",
       "4           4870        24                  car  "
      ]
     },
     "execution_count": 3,
     "metadata": {},
     "output_type": "execute_result"
    }
   ],
   "source": [
    "# To See First Five rows of Dataset\n",
    "German_Credit1.head()"
   ]
  },
  {
   "cell_type": "markdown",
   "id": "70e70fa6",
   "metadata": {},
   "source": [
    "* Here i used the head() function i want to see first five observations of the Dataset.Because i want to Understand how Data is distributed at the Starting of Table."
   ]
  },
  {
   "cell_type": "code",
   "execution_count": 4,
   "id": "1aedcdf8",
   "metadata": {},
   "outputs": [
    {
     "data": {
      "text/html": [
       "<div>\n",
       "<style scoped>\n",
       "    .dataframe tbody tr th:only-of-type {\n",
       "        vertical-align: middle;\n",
       "    }\n",
       "\n",
       "    .dataframe tbody tr th {\n",
       "        vertical-align: top;\n",
       "    }\n",
       "\n",
       "    .dataframe thead th {\n",
       "        text-align: right;\n",
       "    }\n",
       "</style>\n",
       "<table border=\"1\" class=\"dataframe\">\n",
       "  <thead>\n",
       "    <tr style=\"text-align: right;\">\n",
       "      <th></th>\n",
       "      <th>Unnamed: 0</th>\n",
       "      <th>Age</th>\n",
       "      <th>Sex</th>\n",
       "      <th>Job</th>\n",
       "      <th>Housing</th>\n",
       "      <th>Saving accounts</th>\n",
       "      <th>Checking account</th>\n",
       "      <th>Credit amount</th>\n",
       "      <th>Duration</th>\n",
       "      <th>Purpose</th>\n",
       "    </tr>\n",
       "  </thead>\n",
       "  <tbody>\n",
       "    <tr>\n",
       "      <th>995</th>\n",
       "      <td>995</td>\n",
       "      <td>31</td>\n",
       "      <td>female</td>\n",
       "      <td>1</td>\n",
       "      <td>own</td>\n",
       "      <td>little</td>\n",
       "      <td>NaN</td>\n",
       "      <td>1736</td>\n",
       "      <td>12</td>\n",
       "      <td>furniture/equipment</td>\n",
       "    </tr>\n",
       "    <tr>\n",
       "      <th>996</th>\n",
       "      <td>996</td>\n",
       "      <td>40</td>\n",
       "      <td>male</td>\n",
       "      <td>3</td>\n",
       "      <td>own</td>\n",
       "      <td>little</td>\n",
       "      <td>little</td>\n",
       "      <td>3857</td>\n",
       "      <td>30</td>\n",
       "      <td>car</td>\n",
       "    </tr>\n",
       "    <tr>\n",
       "      <th>997</th>\n",
       "      <td>997</td>\n",
       "      <td>38</td>\n",
       "      <td>male</td>\n",
       "      <td>2</td>\n",
       "      <td>own</td>\n",
       "      <td>little</td>\n",
       "      <td>NaN</td>\n",
       "      <td>804</td>\n",
       "      <td>12</td>\n",
       "      <td>radio/TV</td>\n",
       "    </tr>\n",
       "    <tr>\n",
       "      <th>998</th>\n",
       "      <td>998</td>\n",
       "      <td>23</td>\n",
       "      <td>male</td>\n",
       "      <td>2</td>\n",
       "      <td>free</td>\n",
       "      <td>little</td>\n",
       "      <td>little</td>\n",
       "      <td>1845</td>\n",
       "      <td>45</td>\n",
       "      <td>radio/TV</td>\n",
       "    </tr>\n",
       "    <tr>\n",
       "      <th>999</th>\n",
       "      <td>999</td>\n",
       "      <td>27</td>\n",
       "      <td>male</td>\n",
       "      <td>2</td>\n",
       "      <td>own</td>\n",
       "      <td>moderate</td>\n",
       "      <td>moderate</td>\n",
       "      <td>4576</td>\n",
       "      <td>45</td>\n",
       "      <td>car</td>\n",
       "    </tr>\n",
       "  </tbody>\n",
       "</table>\n",
       "</div>"
      ],
      "text/plain": [
       "     Unnamed: 0  Age     Sex  Job Housing Saving accounts Checking account  \\\n",
       "995         995   31  female    1     own          little              NaN   \n",
       "996         996   40    male    3     own          little           little   \n",
       "997         997   38    male    2     own          little              NaN   \n",
       "998         998   23    male    2    free          little           little   \n",
       "999         999   27    male    2     own        moderate         moderate   \n",
       "\n",
       "     Credit amount  Duration              Purpose  \n",
       "995           1736        12  furniture/equipment  \n",
       "996           3857        30                  car  \n",
       "997            804        12             radio/TV  \n",
       "998           1845        45             radio/TV  \n",
       "999           4576        45                  car  "
      ]
     },
     "execution_count": 4,
     "metadata": {},
     "output_type": "execute_result"
    }
   ],
   "source": [
    "# To See Last Five rows of Dataset\n",
    "German_Credit1.tail()"
   ]
  },
  {
   "cell_type": "markdown",
   "id": "51cc8915",
   "metadata": {},
   "source": [
    "* Here i used the  tail() function i want to see Last five observations of the Dataset.Because i want to Understand how Data is distributed at the Ending of Table."
   ]
  },
  {
   "cell_type": "code",
   "execution_count": 5,
   "id": "f18c2a8e",
   "metadata": {},
   "outputs": [
    {
     "data": {
      "text/plain": [
       "(1000, 10)"
      ]
     },
     "execution_count": 5,
     "metadata": {},
     "output_type": "execute_result"
    }
   ],
   "source": [
    "# To see Shape of Dataset\n",
    "German_Credit1.shape"
   ]
  },
  {
   "cell_type": "markdown",
   "id": "7c9f3134",
   "metadata": {},
   "source": [
    "* Here i used df.shape function and it gives me a tuple i.e. (no.of row, no. of column).using this function i can easily see how many rows and columns in given dataset.and in our Dataset there is 1000 obsevations and 10 coulumns but 1st column is just index column.other 9 columns are our featuers."
   ]
  },
  {
   "cell_type": "code",
   "execution_count": 6,
   "id": "1e2cb9ef",
   "metadata": {},
   "outputs": [
    {
     "data": {
      "text/plain": [
       "2"
      ]
     },
     "execution_count": 6,
     "metadata": {},
     "output_type": "execute_result"
    }
   ],
   "source": [
    "# To see dimension of dataset\n",
    "German_Credit1.ndim"
   ]
  },
  {
   "cell_type": "code",
   "execution_count": 7,
   "id": "8f47bbbe",
   "metadata": {},
   "outputs": [
    {
     "data": {
      "text/plain": [
       "Index(['Unnamed: 0', 'Age', 'Sex', 'Job', 'Housing', 'Saving accounts',\n",
       "       'Checking account', 'Credit amount', 'Duration', 'Purpose'],\n",
       "      dtype='object')"
      ]
     },
     "execution_count": 7,
     "metadata": {},
     "output_type": "execute_result"
    }
   ],
   "source": [
    "# Columns present in the dataset\n",
    "German_Credit1.columns"
   ]
  },
  {
   "cell_type": "code",
   "execution_count": 8,
   "id": "0a70adcd",
   "metadata": {},
   "outputs": [
    {
     "data": {
      "text/plain": [
       "Unnamed: 0          1000\n",
       "Age                   53\n",
       "Sex                    2\n",
       "Job                    4\n",
       "Housing                3\n",
       "Saving accounts        4\n",
       "Checking account       3\n",
       "Credit amount        921\n",
       "Duration              33\n",
       "Purpose                8\n",
       "dtype: int64"
      ]
     },
     "execution_count": 8,
     "metadata": {},
     "output_type": "execute_result"
    }
   ],
   "source": [
    "# To see unique value in each column\n",
    "German_Credit1.nunique()"
   ]
  },
  {
   "cell_type": "markdown",
   "id": "a14440ce",
   "metadata": {},
   "source": [
    "| Variable | Types of variables | No of Unique values in each column |\n",
    "| --- | --- | --- |\n",
    "| Age | Numeric(Diascrete) | 53 |\n",
    "| Sex | Nominal | 2 |\n",
    "| Job | Categorical | 4 |\n",
    "| Housing | Categorical | 3 |\n",
    "| Saving Accounts | Categorical | 4 |\n",
    "| Checking Accounts | Categorical | 3 |\n",
    "|Credit Amount | Numeric | 921 |\n",
    "| Duration | Numeric | 33 |\n",
    "| Purpose | Categorical | 8 |"
   ]
  },
  {
   "cell_type": "code",
   "execution_count": 9,
   "id": "06a2ac7d",
   "metadata": {},
   "outputs": [
    {
     "data": {
      "text/html": [
       "<div>\n",
       "<style scoped>\n",
       "    .dataframe tbody tr th:only-of-type {\n",
       "        vertical-align: middle;\n",
       "    }\n",
       "\n",
       "    .dataframe tbody tr th {\n",
       "        vertical-align: top;\n",
       "    }\n",
       "\n",
       "    .dataframe thead th {\n",
       "        text-align: right;\n",
       "    }\n",
       "</style>\n",
       "<table border=\"1\" class=\"dataframe\">\n",
       "  <thead>\n",
       "    <tr style=\"text-align: right;\">\n",
       "      <th></th>\n",
       "      <th>Age</th>\n",
       "      <th>Sex</th>\n",
       "      <th>Job</th>\n",
       "      <th>Housing</th>\n",
       "      <th>Saving accounts</th>\n",
       "      <th>Checking account</th>\n",
       "      <th>Credit amount</th>\n",
       "      <th>Duration</th>\n",
       "      <th>Purpose</th>\n",
       "    </tr>\n",
       "  </thead>\n",
       "  <tbody>\n",
       "    <tr>\n",
       "      <th>0</th>\n",
       "      <td>67</td>\n",
       "      <td>male</td>\n",
       "      <td>2</td>\n",
       "      <td>own</td>\n",
       "      <td>NaN</td>\n",
       "      <td>little</td>\n",
       "      <td>1169</td>\n",
       "      <td>6</td>\n",
       "      <td>radio/TV</td>\n",
       "    </tr>\n",
       "    <tr>\n",
       "      <th>1</th>\n",
       "      <td>22</td>\n",
       "      <td>female</td>\n",
       "      <td>2</td>\n",
       "      <td>own</td>\n",
       "      <td>little</td>\n",
       "      <td>moderate</td>\n",
       "      <td>5951</td>\n",
       "      <td>48</td>\n",
       "      <td>radio/TV</td>\n",
       "    </tr>\n",
       "    <tr>\n",
       "      <th>2</th>\n",
       "      <td>49</td>\n",
       "      <td>male</td>\n",
       "      <td>1</td>\n",
       "      <td>own</td>\n",
       "      <td>little</td>\n",
       "      <td>NaN</td>\n",
       "      <td>2096</td>\n",
       "      <td>12</td>\n",
       "      <td>education</td>\n",
       "    </tr>\n",
       "    <tr>\n",
       "      <th>3</th>\n",
       "      <td>45</td>\n",
       "      <td>male</td>\n",
       "      <td>2</td>\n",
       "      <td>free</td>\n",
       "      <td>little</td>\n",
       "      <td>little</td>\n",
       "      <td>7882</td>\n",
       "      <td>42</td>\n",
       "      <td>furniture/equipment</td>\n",
       "    </tr>\n",
       "    <tr>\n",
       "      <th>4</th>\n",
       "      <td>53</td>\n",
       "      <td>male</td>\n",
       "      <td>2</td>\n",
       "      <td>free</td>\n",
       "      <td>little</td>\n",
       "      <td>little</td>\n",
       "      <td>4870</td>\n",
       "      <td>24</td>\n",
       "      <td>car</td>\n",
       "    </tr>\n",
       "    <tr>\n",
       "      <th>...</th>\n",
       "      <td>...</td>\n",
       "      <td>...</td>\n",
       "      <td>...</td>\n",
       "      <td>...</td>\n",
       "      <td>...</td>\n",
       "      <td>...</td>\n",
       "      <td>...</td>\n",
       "      <td>...</td>\n",
       "      <td>...</td>\n",
       "    </tr>\n",
       "    <tr>\n",
       "      <th>995</th>\n",
       "      <td>31</td>\n",
       "      <td>female</td>\n",
       "      <td>1</td>\n",
       "      <td>own</td>\n",
       "      <td>little</td>\n",
       "      <td>NaN</td>\n",
       "      <td>1736</td>\n",
       "      <td>12</td>\n",
       "      <td>furniture/equipment</td>\n",
       "    </tr>\n",
       "    <tr>\n",
       "      <th>996</th>\n",
       "      <td>40</td>\n",
       "      <td>male</td>\n",
       "      <td>3</td>\n",
       "      <td>own</td>\n",
       "      <td>little</td>\n",
       "      <td>little</td>\n",
       "      <td>3857</td>\n",
       "      <td>30</td>\n",
       "      <td>car</td>\n",
       "    </tr>\n",
       "    <tr>\n",
       "      <th>997</th>\n",
       "      <td>38</td>\n",
       "      <td>male</td>\n",
       "      <td>2</td>\n",
       "      <td>own</td>\n",
       "      <td>little</td>\n",
       "      <td>NaN</td>\n",
       "      <td>804</td>\n",
       "      <td>12</td>\n",
       "      <td>radio/TV</td>\n",
       "    </tr>\n",
       "    <tr>\n",
       "      <th>998</th>\n",
       "      <td>23</td>\n",
       "      <td>male</td>\n",
       "      <td>2</td>\n",
       "      <td>free</td>\n",
       "      <td>little</td>\n",
       "      <td>little</td>\n",
       "      <td>1845</td>\n",
       "      <td>45</td>\n",
       "      <td>radio/TV</td>\n",
       "    </tr>\n",
       "    <tr>\n",
       "      <th>999</th>\n",
       "      <td>27</td>\n",
       "      <td>male</td>\n",
       "      <td>2</td>\n",
       "      <td>own</td>\n",
       "      <td>moderate</td>\n",
       "      <td>moderate</td>\n",
       "      <td>4576</td>\n",
       "      <td>45</td>\n",
       "      <td>car</td>\n",
       "    </tr>\n",
       "  </tbody>\n",
       "</table>\n",
       "<p>1000 rows × 9 columns</p>\n",
       "</div>"
      ],
      "text/plain": [
       "     Age     Sex  Job Housing Saving accounts Checking account  Credit amount  \\\n",
       "0     67    male    2     own             NaN           little           1169   \n",
       "1     22  female    2     own          little         moderate           5951   \n",
       "2     49    male    1     own          little              NaN           2096   \n",
       "3     45    male    2    free          little           little           7882   \n",
       "4     53    male    2    free          little           little           4870   \n",
       "..   ...     ...  ...     ...             ...              ...            ...   \n",
       "995   31  female    1     own          little              NaN           1736   \n",
       "996   40    male    3     own          little           little           3857   \n",
       "997   38    male    2     own          little              NaN            804   \n",
       "998   23    male    2    free          little           little           1845   \n",
       "999   27    male    2     own        moderate         moderate           4576   \n",
       "\n",
       "     Duration              Purpose  \n",
       "0           6             radio/TV  \n",
       "1          48             radio/TV  \n",
       "2          12            education  \n",
       "3          42  furniture/equipment  \n",
       "4          24                  car  \n",
       "..        ...                  ...  \n",
       "995        12  furniture/equipment  \n",
       "996        30                  car  \n",
       "997        12             radio/TV  \n",
       "998        45             radio/TV  \n",
       "999        45                  car  \n",
       "\n",
       "[1000 rows x 9 columns]"
      ]
     },
     "execution_count": 9,
     "metadata": {},
     "output_type": "execute_result"
    }
   ],
   "source": [
    "German_Credit = German_Credit1.drop(['Unnamed: 0'], axis = 1)\n",
    "German_Credit"
   ]
  },
  {
   "cell_type": "markdown",
   "id": "f420d874",
   "metadata": {},
   "source": [
    "* Here i used the drop function because i want delete index column.python gives index itself so i deleted the 'Unnamed' coulmn."
   ]
  },
  {
   "cell_type": "code",
   "execution_count": 10,
   "id": "9945c838",
   "metadata": {},
   "outputs": [
    {
     "data": {
      "text/plain": [
       "0"
      ]
     },
     "execution_count": 10,
     "metadata": {},
     "output_type": "execute_result"
    }
   ],
   "source": [
    "German_Credit.duplicated().sum()"
   ]
  },
  {
   "cell_type": "markdown",
   "id": "b5675bb7",
   "metadata": {},
   "source": [
    "* to using aabove function i just check our data having duplicate or not.but in our data there is no duplicate.i dont want to one persons information twice or more times beacuse it just introduce bias."
   ]
  },
  {
   "cell_type": "code",
   "execution_count": 11,
   "id": "a7341999",
   "metadata": {
    "scrolled": true
   },
   "outputs": [
    {
     "data": {
      "text/html": [
       "<div>\n",
       "<style scoped>\n",
       "    .dataframe tbody tr th:only-of-type {\n",
       "        vertical-align: middle;\n",
       "    }\n",
       "\n",
       "    .dataframe tbody tr th {\n",
       "        vertical-align: top;\n",
       "    }\n",
       "\n",
       "    .dataframe thead th {\n",
       "        text-align: right;\n",
       "    }\n",
       "</style>\n",
       "<table border=\"1\" class=\"dataframe\">\n",
       "  <thead>\n",
       "    <tr style=\"text-align: right;\">\n",
       "      <th></th>\n",
       "      <th>Age</th>\n",
       "      <th>Sex</th>\n",
       "      <th>Job</th>\n",
       "      <th>Housing</th>\n",
       "      <th>Saving accounts</th>\n",
       "      <th>Checking account</th>\n",
       "      <th>Credit amount</th>\n",
       "      <th>Duration</th>\n",
       "      <th>Purpose</th>\n",
       "    </tr>\n",
       "  </thead>\n",
       "  <tbody>\n",
       "    <tr>\n",
       "      <th>count</th>\n",
       "      <td>1000.000000</td>\n",
       "      <td>1000</td>\n",
       "      <td>1000.000000</td>\n",
       "      <td>1000</td>\n",
       "      <td>817</td>\n",
       "      <td>606</td>\n",
       "      <td>1000.000000</td>\n",
       "      <td>1000.000000</td>\n",
       "      <td>1000</td>\n",
       "    </tr>\n",
       "    <tr>\n",
       "      <th>unique</th>\n",
       "      <td>NaN</td>\n",
       "      <td>2</td>\n",
       "      <td>NaN</td>\n",
       "      <td>3</td>\n",
       "      <td>4</td>\n",
       "      <td>3</td>\n",
       "      <td>NaN</td>\n",
       "      <td>NaN</td>\n",
       "      <td>8</td>\n",
       "    </tr>\n",
       "    <tr>\n",
       "      <th>top</th>\n",
       "      <td>NaN</td>\n",
       "      <td>male</td>\n",
       "      <td>NaN</td>\n",
       "      <td>own</td>\n",
       "      <td>little</td>\n",
       "      <td>little</td>\n",
       "      <td>NaN</td>\n",
       "      <td>NaN</td>\n",
       "      <td>car</td>\n",
       "    </tr>\n",
       "    <tr>\n",
       "      <th>freq</th>\n",
       "      <td>NaN</td>\n",
       "      <td>690</td>\n",
       "      <td>NaN</td>\n",
       "      <td>713</td>\n",
       "      <td>603</td>\n",
       "      <td>274</td>\n",
       "      <td>NaN</td>\n",
       "      <td>NaN</td>\n",
       "      <td>337</td>\n",
       "    </tr>\n",
       "    <tr>\n",
       "      <th>mean</th>\n",
       "      <td>35.546000</td>\n",
       "      <td>NaN</td>\n",
       "      <td>1.904000</td>\n",
       "      <td>NaN</td>\n",
       "      <td>NaN</td>\n",
       "      <td>NaN</td>\n",
       "      <td>3271.258000</td>\n",
       "      <td>20.903000</td>\n",
       "      <td>NaN</td>\n",
       "    </tr>\n",
       "    <tr>\n",
       "      <th>std</th>\n",
       "      <td>11.375469</td>\n",
       "      <td>NaN</td>\n",
       "      <td>0.653614</td>\n",
       "      <td>NaN</td>\n",
       "      <td>NaN</td>\n",
       "      <td>NaN</td>\n",
       "      <td>2822.736876</td>\n",
       "      <td>12.058814</td>\n",
       "      <td>NaN</td>\n",
       "    </tr>\n",
       "    <tr>\n",
       "      <th>min</th>\n",
       "      <td>19.000000</td>\n",
       "      <td>NaN</td>\n",
       "      <td>0.000000</td>\n",
       "      <td>NaN</td>\n",
       "      <td>NaN</td>\n",
       "      <td>NaN</td>\n",
       "      <td>250.000000</td>\n",
       "      <td>4.000000</td>\n",
       "      <td>NaN</td>\n",
       "    </tr>\n",
       "    <tr>\n",
       "      <th>25%</th>\n",
       "      <td>27.000000</td>\n",
       "      <td>NaN</td>\n",
       "      <td>2.000000</td>\n",
       "      <td>NaN</td>\n",
       "      <td>NaN</td>\n",
       "      <td>NaN</td>\n",
       "      <td>1365.500000</td>\n",
       "      <td>12.000000</td>\n",
       "      <td>NaN</td>\n",
       "    </tr>\n",
       "    <tr>\n",
       "      <th>50%</th>\n",
       "      <td>33.000000</td>\n",
       "      <td>NaN</td>\n",
       "      <td>2.000000</td>\n",
       "      <td>NaN</td>\n",
       "      <td>NaN</td>\n",
       "      <td>NaN</td>\n",
       "      <td>2319.500000</td>\n",
       "      <td>18.000000</td>\n",
       "      <td>NaN</td>\n",
       "    </tr>\n",
       "    <tr>\n",
       "      <th>75%</th>\n",
       "      <td>42.000000</td>\n",
       "      <td>NaN</td>\n",
       "      <td>2.000000</td>\n",
       "      <td>NaN</td>\n",
       "      <td>NaN</td>\n",
       "      <td>NaN</td>\n",
       "      <td>3972.250000</td>\n",
       "      <td>24.000000</td>\n",
       "      <td>NaN</td>\n",
       "    </tr>\n",
       "    <tr>\n",
       "      <th>max</th>\n",
       "      <td>75.000000</td>\n",
       "      <td>NaN</td>\n",
       "      <td>3.000000</td>\n",
       "      <td>NaN</td>\n",
       "      <td>NaN</td>\n",
       "      <td>NaN</td>\n",
       "      <td>18424.000000</td>\n",
       "      <td>72.000000</td>\n",
       "      <td>NaN</td>\n",
       "    </tr>\n",
       "  </tbody>\n",
       "</table>\n",
       "</div>"
      ],
      "text/plain": [
       "                Age   Sex          Job Housing Saving accounts  \\\n",
       "count   1000.000000  1000  1000.000000    1000             817   \n",
       "unique          NaN     2          NaN       3               4   \n",
       "top             NaN  male          NaN     own          little   \n",
       "freq            NaN   690          NaN     713             603   \n",
       "mean      35.546000   NaN     1.904000     NaN             NaN   \n",
       "std       11.375469   NaN     0.653614     NaN             NaN   \n",
       "min       19.000000   NaN     0.000000     NaN             NaN   \n",
       "25%       27.000000   NaN     2.000000     NaN             NaN   \n",
       "50%       33.000000   NaN     2.000000     NaN             NaN   \n",
       "75%       42.000000   NaN     2.000000     NaN             NaN   \n",
       "max       75.000000   NaN     3.000000     NaN             NaN   \n",
       "\n",
       "       Checking account  Credit amount     Duration Purpose  \n",
       "count               606    1000.000000  1000.000000    1000  \n",
       "unique                3            NaN          NaN       8  \n",
       "top              little            NaN          NaN     car  \n",
       "freq                274            NaN          NaN     337  \n",
       "mean                NaN    3271.258000    20.903000     NaN  \n",
       "std                 NaN    2822.736876    12.058814     NaN  \n",
       "min                 NaN     250.000000     4.000000     NaN  \n",
       "25%                 NaN    1365.500000    12.000000     NaN  \n",
       "50%                 NaN    2319.500000    18.000000     NaN  \n",
       "75%                 NaN    3972.250000    24.000000     NaN  \n",
       "max                 NaN   18424.000000    72.000000     NaN  "
      ]
     },
     "execution_count": 11,
     "metadata": {},
     "output_type": "execute_result"
    }
   ],
   "source": [
    "German_Credit.describe(include = 'all')"
   ]
  },
  {
   "cell_type": "markdown",
   "id": "83811d0b",
   "metadata": {},
   "source": [
    "* Here i used .describe function to see in data more detail.then the columns 'Age', 'Credit ammount', ' duration' is our numerical columns.so thats why it gives us five point summery.and other columns are categorical columns.and i can easily see we dont have to do any corrections in missing values."
   ]
  },
  {
   "cell_type": "code",
   "execution_count": 12,
   "id": "8540e01f",
   "metadata": {},
   "outputs": [
    {
     "name": "stdout",
     "output_type": "stream",
     "text": [
      "<class 'pandas.core.frame.DataFrame'>\n",
      "RangeIndex: 1000 entries, 0 to 999\n",
      "Data columns (total 9 columns):\n",
      " #   Column            Non-Null Count  Dtype \n",
      "---  ------            --------------  ----- \n",
      " 0   Age               1000 non-null   int64 \n",
      " 1   Sex               1000 non-null   object\n",
      " 2   Job               1000 non-null   int64 \n",
      " 3   Housing           1000 non-null   object\n",
      " 4   Saving accounts   817 non-null    object\n",
      " 5   Checking account  606 non-null    object\n",
      " 6   Credit amount     1000 non-null   int64 \n",
      " 7   Duration          1000 non-null   int64 \n",
      " 8   Purpose           1000 non-null   object\n",
      "dtypes: int64(4), object(5)\n",
      "memory usage: 70.4+ KB\n"
     ]
    }
   ],
   "source": [
    "German_Credit.info()"
   ]
  },
  {
   "cell_type": "code",
   "execution_count": 13,
   "id": "6a40b46e",
   "metadata": {},
   "outputs": [
    {
     "data": {
      "text/html": [
       "<div>\n",
       "<style scoped>\n",
       "    .dataframe tbody tr th:only-of-type {\n",
       "        vertical-align: middle;\n",
       "    }\n",
       "\n",
       "    .dataframe tbody tr th {\n",
       "        vertical-align: top;\n",
       "    }\n",
       "\n",
       "    .dataframe thead th {\n",
       "        text-align: right;\n",
       "    }\n",
       "</style>\n",
       "<table border=\"1\" class=\"dataframe\">\n",
       "  <thead>\n",
       "    <tr style=\"text-align: right;\">\n",
       "      <th></th>\n",
       "      <th>Age</th>\n",
       "      <th>Sex</th>\n",
       "      <th>Job</th>\n",
       "      <th>Housing</th>\n",
       "      <th>Saving_accounts</th>\n",
       "      <th>Checking_account</th>\n",
       "      <th>Credit_amount</th>\n",
       "      <th>Duration</th>\n",
       "      <th>Purpose</th>\n",
       "    </tr>\n",
       "  </thead>\n",
       "  <tbody>\n",
       "    <tr>\n",
       "      <th>0</th>\n",
       "      <td>67</td>\n",
       "      <td>male</td>\n",
       "      <td>2</td>\n",
       "      <td>own</td>\n",
       "      <td>NaN</td>\n",
       "      <td>little</td>\n",
       "      <td>1169</td>\n",
       "      <td>6</td>\n",
       "      <td>radio/TV</td>\n",
       "    </tr>\n",
       "    <tr>\n",
       "      <th>1</th>\n",
       "      <td>22</td>\n",
       "      <td>female</td>\n",
       "      <td>2</td>\n",
       "      <td>own</td>\n",
       "      <td>little</td>\n",
       "      <td>moderate</td>\n",
       "      <td>5951</td>\n",
       "      <td>48</td>\n",
       "      <td>radio/TV</td>\n",
       "    </tr>\n",
       "    <tr>\n",
       "      <th>2</th>\n",
       "      <td>49</td>\n",
       "      <td>male</td>\n",
       "      <td>1</td>\n",
       "      <td>own</td>\n",
       "      <td>little</td>\n",
       "      <td>NaN</td>\n",
       "      <td>2096</td>\n",
       "      <td>12</td>\n",
       "      <td>education</td>\n",
       "    </tr>\n",
       "    <tr>\n",
       "      <th>3</th>\n",
       "      <td>45</td>\n",
       "      <td>male</td>\n",
       "      <td>2</td>\n",
       "      <td>free</td>\n",
       "      <td>little</td>\n",
       "      <td>little</td>\n",
       "      <td>7882</td>\n",
       "      <td>42</td>\n",
       "      <td>furniture/equipment</td>\n",
       "    </tr>\n",
       "    <tr>\n",
       "      <th>4</th>\n",
       "      <td>53</td>\n",
       "      <td>male</td>\n",
       "      <td>2</td>\n",
       "      <td>free</td>\n",
       "      <td>little</td>\n",
       "      <td>little</td>\n",
       "      <td>4870</td>\n",
       "      <td>24</td>\n",
       "      <td>car</td>\n",
       "    </tr>\n",
       "    <tr>\n",
       "      <th>...</th>\n",
       "      <td>...</td>\n",
       "      <td>...</td>\n",
       "      <td>...</td>\n",
       "      <td>...</td>\n",
       "      <td>...</td>\n",
       "      <td>...</td>\n",
       "      <td>...</td>\n",
       "      <td>...</td>\n",
       "      <td>...</td>\n",
       "    </tr>\n",
       "    <tr>\n",
       "      <th>995</th>\n",
       "      <td>31</td>\n",
       "      <td>female</td>\n",
       "      <td>1</td>\n",
       "      <td>own</td>\n",
       "      <td>little</td>\n",
       "      <td>NaN</td>\n",
       "      <td>1736</td>\n",
       "      <td>12</td>\n",
       "      <td>furniture/equipment</td>\n",
       "    </tr>\n",
       "    <tr>\n",
       "      <th>996</th>\n",
       "      <td>40</td>\n",
       "      <td>male</td>\n",
       "      <td>3</td>\n",
       "      <td>own</td>\n",
       "      <td>little</td>\n",
       "      <td>little</td>\n",
       "      <td>3857</td>\n",
       "      <td>30</td>\n",
       "      <td>car</td>\n",
       "    </tr>\n",
       "    <tr>\n",
       "      <th>997</th>\n",
       "      <td>38</td>\n",
       "      <td>male</td>\n",
       "      <td>2</td>\n",
       "      <td>own</td>\n",
       "      <td>little</td>\n",
       "      <td>NaN</td>\n",
       "      <td>804</td>\n",
       "      <td>12</td>\n",
       "      <td>radio/TV</td>\n",
       "    </tr>\n",
       "    <tr>\n",
       "      <th>998</th>\n",
       "      <td>23</td>\n",
       "      <td>male</td>\n",
       "      <td>2</td>\n",
       "      <td>free</td>\n",
       "      <td>little</td>\n",
       "      <td>little</td>\n",
       "      <td>1845</td>\n",
       "      <td>45</td>\n",
       "      <td>radio/TV</td>\n",
       "    </tr>\n",
       "    <tr>\n",
       "      <th>999</th>\n",
       "      <td>27</td>\n",
       "      <td>male</td>\n",
       "      <td>2</td>\n",
       "      <td>own</td>\n",
       "      <td>moderate</td>\n",
       "      <td>moderate</td>\n",
       "      <td>4576</td>\n",
       "      <td>45</td>\n",
       "      <td>car</td>\n",
       "    </tr>\n",
       "  </tbody>\n",
       "</table>\n",
       "<p>1000 rows × 9 columns</p>\n",
       "</div>"
      ],
      "text/plain": [
       "     Age     Sex  Job Housing Saving_accounts Checking_account  Credit_amount  \\\n",
       "0     67    male    2     own             NaN           little           1169   \n",
       "1     22  female    2     own          little         moderate           5951   \n",
       "2     49    male    1     own          little              NaN           2096   \n",
       "3     45    male    2    free          little           little           7882   \n",
       "4     53    male    2    free          little           little           4870   \n",
       "..   ...     ...  ...     ...             ...              ...            ...   \n",
       "995   31  female    1     own          little              NaN           1736   \n",
       "996   40    male    3     own          little           little           3857   \n",
       "997   38    male    2     own          little              NaN            804   \n",
       "998   23    male    2    free          little           little           1845   \n",
       "999   27    male    2     own        moderate         moderate           4576   \n",
       "\n",
       "     Duration              Purpose  \n",
       "0           6             radio/TV  \n",
       "1          48             radio/TV  \n",
       "2          12            education  \n",
       "3          42  furniture/equipment  \n",
       "4          24                  car  \n",
       "..        ...                  ...  \n",
       "995        12  furniture/equipment  \n",
       "996        30                  car  \n",
       "997        12             radio/TV  \n",
       "998        45             radio/TV  \n",
       "999        45                  car  \n",
       "\n",
       "[1000 rows x 9 columns]"
      ]
     },
     "execution_count": 13,
     "metadata": {},
     "output_type": "execute_result"
    }
   ],
   "source": [
    "GCredit = German_Credit.rename( columns = { 'Saving accounts': 'Saving_accounts' , 'Checking account': 'Checking_account' , 'Credit amount':'Credit_amount' } )\n",
    "GCredit"
   ]
  },
  {
   "cell_type": "markdown",
   "id": "12b4619f",
   "metadata": {},
   "source": [
    "* Here i used the .rename function to chnage the column name because the colums 'Saving account', 'Checking account' and 'credit amount'having space between two words.its can create some error in our visulization.to avoit it i just remove the space between words."
   ]
  },
  {
   "cell_type": "code",
   "execution_count": 14,
   "id": "42e26672",
   "metadata": {},
   "outputs": [
    {
     "data": {
      "text/html": [
       "<div>\n",
       "<style scoped>\n",
       "    .dataframe tbody tr th:only-of-type {\n",
       "        vertical-align: middle;\n",
       "    }\n",
       "\n",
       "    .dataframe tbody tr th {\n",
       "        vertical-align: top;\n",
       "    }\n",
       "\n",
       "    .dataframe thead th {\n",
       "        text-align: right;\n",
       "    }\n",
       "</style>\n",
       "<table border=\"1\" class=\"dataframe\">\n",
       "  <thead>\n",
       "    <tr style=\"text-align: right;\">\n",
       "      <th></th>\n",
       "      <th>Age</th>\n",
       "      <th>Sex</th>\n",
       "      <th>Job</th>\n",
       "      <th>Housing</th>\n",
       "      <th>Saving_accounts</th>\n",
       "      <th>Checking_account</th>\n",
       "      <th>Credit_amount</th>\n",
       "      <th>Duration</th>\n",
       "      <th>Purpose</th>\n",
       "    </tr>\n",
       "  </thead>\n",
       "  <tbody>\n",
       "    <tr>\n",
       "      <th>0</th>\n",
       "      <td>False</td>\n",
       "      <td>False</td>\n",
       "      <td>False</td>\n",
       "      <td>False</td>\n",
       "      <td>True</td>\n",
       "      <td>False</td>\n",
       "      <td>False</td>\n",
       "      <td>False</td>\n",
       "      <td>False</td>\n",
       "    </tr>\n",
       "    <tr>\n",
       "      <th>1</th>\n",
       "      <td>False</td>\n",
       "      <td>False</td>\n",
       "      <td>False</td>\n",
       "      <td>False</td>\n",
       "      <td>False</td>\n",
       "      <td>False</td>\n",
       "      <td>False</td>\n",
       "      <td>False</td>\n",
       "      <td>False</td>\n",
       "    </tr>\n",
       "    <tr>\n",
       "      <th>2</th>\n",
       "      <td>False</td>\n",
       "      <td>False</td>\n",
       "      <td>False</td>\n",
       "      <td>False</td>\n",
       "      <td>False</td>\n",
       "      <td>True</td>\n",
       "      <td>False</td>\n",
       "      <td>False</td>\n",
       "      <td>False</td>\n",
       "    </tr>\n",
       "    <tr>\n",
       "      <th>3</th>\n",
       "      <td>False</td>\n",
       "      <td>False</td>\n",
       "      <td>False</td>\n",
       "      <td>False</td>\n",
       "      <td>False</td>\n",
       "      <td>False</td>\n",
       "      <td>False</td>\n",
       "      <td>False</td>\n",
       "      <td>False</td>\n",
       "    </tr>\n",
       "    <tr>\n",
       "      <th>4</th>\n",
       "      <td>False</td>\n",
       "      <td>False</td>\n",
       "      <td>False</td>\n",
       "      <td>False</td>\n",
       "      <td>False</td>\n",
       "      <td>False</td>\n",
       "      <td>False</td>\n",
       "      <td>False</td>\n",
       "      <td>False</td>\n",
       "    </tr>\n",
       "    <tr>\n",
       "      <th>...</th>\n",
       "      <td>...</td>\n",
       "      <td>...</td>\n",
       "      <td>...</td>\n",
       "      <td>...</td>\n",
       "      <td>...</td>\n",
       "      <td>...</td>\n",
       "      <td>...</td>\n",
       "      <td>...</td>\n",
       "      <td>...</td>\n",
       "    </tr>\n",
       "    <tr>\n",
       "      <th>995</th>\n",
       "      <td>False</td>\n",
       "      <td>False</td>\n",
       "      <td>False</td>\n",
       "      <td>False</td>\n",
       "      <td>False</td>\n",
       "      <td>True</td>\n",
       "      <td>False</td>\n",
       "      <td>False</td>\n",
       "      <td>False</td>\n",
       "    </tr>\n",
       "    <tr>\n",
       "      <th>996</th>\n",
       "      <td>False</td>\n",
       "      <td>False</td>\n",
       "      <td>False</td>\n",
       "      <td>False</td>\n",
       "      <td>False</td>\n",
       "      <td>False</td>\n",
       "      <td>False</td>\n",
       "      <td>False</td>\n",
       "      <td>False</td>\n",
       "    </tr>\n",
       "    <tr>\n",
       "      <th>997</th>\n",
       "      <td>False</td>\n",
       "      <td>False</td>\n",
       "      <td>False</td>\n",
       "      <td>False</td>\n",
       "      <td>False</td>\n",
       "      <td>True</td>\n",
       "      <td>False</td>\n",
       "      <td>False</td>\n",
       "      <td>False</td>\n",
       "    </tr>\n",
       "    <tr>\n",
       "      <th>998</th>\n",
       "      <td>False</td>\n",
       "      <td>False</td>\n",
       "      <td>False</td>\n",
       "      <td>False</td>\n",
       "      <td>False</td>\n",
       "      <td>False</td>\n",
       "      <td>False</td>\n",
       "      <td>False</td>\n",
       "      <td>False</td>\n",
       "    </tr>\n",
       "    <tr>\n",
       "      <th>999</th>\n",
       "      <td>False</td>\n",
       "      <td>False</td>\n",
       "      <td>False</td>\n",
       "      <td>False</td>\n",
       "      <td>False</td>\n",
       "      <td>False</td>\n",
       "      <td>False</td>\n",
       "      <td>False</td>\n",
       "      <td>False</td>\n",
       "    </tr>\n",
       "  </tbody>\n",
       "</table>\n",
       "<p>1000 rows × 9 columns</p>\n",
       "</div>"
      ],
      "text/plain": [
       "       Age    Sex    Job  Housing  Saving_accounts  Checking_account  \\\n",
       "0    False  False  False    False             True             False   \n",
       "1    False  False  False    False            False             False   \n",
       "2    False  False  False    False            False              True   \n",
       "3    False  False  False    False            False             False   \n",
       "4    False  False  False    False            False             False   \n",
       "..     ...    ...    ...      ...              ...               ...   \n",
       "995  False  False  False    False            False              True   \n",
       "996  False  False  False    False            False             False   \n",
       "997  False  False  False    False            False              True   \n",
       "998  False  False  False    False            False             False   \n",
       "999  False  False  False    False            False             False   \n",
       "\n",
       "     Credit_amount  Duration  Purpose  \n",
       "0            False     False    False  \n",
       "1            False     False    False  \n",
       "2            False     False    False  \n",
       "3            False     False    False  \n",
       "4            False     False    False  \n",
       "..             ...       ...      ...  \n",
       "995          False     False    False  \n",
       "996          False     False    False  \n",
       "997          False     False    False  \n",
       "998          False     False    False  \n",
       "999          False     False    False  \n",
       "\n",
       "[1000 rows x 9 columns]"
      ]
     },
     "execution_count": 14,
     "metadata": {},
     "output_type": "execute_result"
    }
   ],
   "source": [
    "GCredit.isna()"
   ]
  },
  {
   "cell_type": "markdown",
   "id": "674affe0",
   "metadata": {},
   "source": [
    "* Here i used the isna function to check there is any missing value or not.True means there is null Value And False means there is no null Values.here i can easily see the Coulmn 'Saving_Account' and 'Checking Account' haves Missing values."
   ]
  },
  {
   "cell_type": "markdown",
   "id": "4f5e15fa",
   "metadata": {},
   "source": [
    "## Analyzing the amount of missing data"
   ]
  },
  {
   "cell_type": "code",
   "execution_count": 15,
   "id": "1fc7c98d",
   "metadata": {},
   "outputs": [
    {
     "data": {
      "text/html": [
       "<div>\n",
       "<style scoped>\n",
       "    .dataframe tbody tr th:only-of-type {\n",
       "        vertical-align: middle;\n",
       "    }\n",
       "\n",
       "    .dataframe tbody tr th {\n",
       "        vertical-align: top;\n",
       "    }\n",
       "\n",
       "    .dataframe thead th {\n",
       "        text-align: right;\n",
       "    }\n",
       "</style>\n",
       "<table border=\"1\" class=\"dataframe\">\n",
       "  <thead>\n",
       "    <tr style=\"text-align: right;\">\n",
       "      <th></th>\n",
       "      <th>Age</th>\n",
       "      <th>Sex</th>\n",
       "      <th>Job</th>\n",
       "      <th>Housing</th>\n",
       "      <th>Saving_accounts</th>\n",
       "      <th>Checking_account</th>\n",
       "      <th>Credit_amount</th>\n",
       "      <th>Duration</th>\n",
       "      <th>Purpose</th>\n",
       "    </tr>\n",
       "  </thead>\n",
       "  <tbody>\n",
       "    <tr>\n",
       "      <th>0</th>\n",
       "      <td>False</td>\n",
       "      <td>False</td>\n",
       "      <td>False</td>\n",
       "      <td>False</td>\n",
       "      <td>True</td>\n",
       "      <td>False</td>\n",
       "      <td>False</td>\n",
       "      <td>False</td>\n",
       "      <td>False</td>\n",
       "    </tr>\n",
       "    <tr>\n",
       "      <th>1</th>\n",
       "      <td>False</td>\n",
       "      <td>False</td>\n",
       "      <td>False</td>\n",
       "      <td>False</td>\n",
       "      <td>False</td>\n",
       "      <td>False</td>\n",
       "      <td>False</td>\n",
       "      <td>False</td>\n",
       "      <td>False</td>\n",
       "    </tr>\n",
       "    <tr>\n",
       "      <th>2</th>\n",
       "      <td>False</td>\n",
       "      <td>False</td>\n",
       "      <td>False</td>\n",
       "      <td>False</td>\n",
       "      <td>False</td>\n",
       "      <td>True</td>\n",
       "      <td>False</td>\n",
       "      <td>False</td>\n",
       "      <td>False</td>\n",
       "    </tr>\n",
       "    <tr>\n",
       "      <th>3</th>\n",
       "      <td>False</td>\n",
       "      <td>False</td>\n",
       "      <td>False</td>\n",
       "      <td>False</td>\n",
       "      <td>False</td>\n",
       "      <td>False</td>\n",
       "      <td>False</td>\n",
       "      <td>False</td>\n",
       "      <td>False</td>\n",
       "    </tr>\n",
       "    <tr>\n",
       "      <th>4</th>\n",
       "      <td>False</td>\n",
       "      <td>False</td>\n",
       "      <td>False</td>\n",
       "      <td>False</td>\n",
       "      <td>False</td>\n",
       "      <td>False</td>\n",
       "      <td>False</td>\n",
       "      <td>False</td>\n",
       "      <td>False</td>\n",
       "    </tr>\n",
       "    <tr>\n",
       "      <th>...</th>\n",
       "      <td>...</td>\n",
       "      <td>...</td>\n",
       "      <td>...</td>\n",
       "      <td>...</td>\n",
       "      <td>...</td>\n",
       "      <td>...</td>\n",
       "      <td>...</td>\n",
       "      <td>...</td>\n",
       "      <td>...</td>\n",
       "    </tr>\n",
       "    <tr>\n",
       "      <th>995</th>\n",
       "      <td>False</td>\n",
       "      <td>False</td>\n",
       "      <td>False</td>\n",
       "      <td>False</td>\n",
       "      <td>False</td>\n",
       "      <td>True</td>\n",
       "      <td>False</td>\n",
       "      <td>False</td>\n",
       "      <td>False</td>\n",
       "    </tr>\n",
       "    <tr>\n",
       "      <th>996</th>\n",
       "      <td>False</td>\n",
       "      <td>False</td>\n",
       "      <td>False</td>\n",
       "      <td>False</td>\n",
       "      <td>False</td>\n",
       "      <td>False</td>\n",
       "      <td>False</td>\n",
       "      <td>False</td>\n",
       "      <td>False</td>\n",
       "    </tr>\n",
       "    <tr>\n",
       "      <th>997</th>\n",
       "      <td>False</td>\n",
       "      <td>False</td>\n",
       "      <td>False</td>\n",
       "      <td>False</td>\n",
       "      <td>False</td>\n",
       "      <td>True</td>\n",
       "      <td>False</td>\n",
       "      <td>False</td>\n",
       "      <td>False</td>\n",
       "    </tr>\n",
       "    <tr>\n",
       "      <th>998</th>\n",
       "      <td>False</td>\n",
       "      <td>False</td>\n",
       "      <td>False</td>\n",
       "      <td>False</td>\n",
       "      <td>False</td>\n",
       "      <td>False</td>\n",
       "      <td>False</td>\n",
       "      <td>False</td>\n",
       "      <td>False</td>\n",
       "    </tr>\n",
       "    <tr>\n",
       "      <th>999</th>\n",
       "      <td>False</td>\n",
       "      <td>False</td>\n",
       "      <td>False</td>\n",
       "      <td>False</td>\n",
       "      <td>False</td>\n",
       "      <td>False</td>\n",
       "      <td>False</td>\n",
       "      <td>False</td>\n",
       "      <td>False</td>\n",
       "    </tr>\n",
       "  </tbody>\n",
       "</table>\n",
       "<p>1000 rows × 9 columns</p>\n",
       "</div>"
      ],
      "text/plain": [
       "       Age    Sex    Job  Housing  Saving_accounts  Checking_account  \\\n",
       "0    False  False  False    False             True             False   \n",
       "1    False  False  False    False            False             False   \n",
       "2    False  False  False    False            False              True   \n",
       "3    False  False  False    False            False             False   \n",
       "4    False  False  False    False            False             False   \n",
       "..     ...    ...    ...      ...              ...               ...   \n",
       "995  False  False  False    False            False              True   \n",
       "996  False  False  False    False            False             False   \n",
       "997  False  False  False    False            False              True   \n",
       "998  False  False  False    False            False             False   \n",
       "999  False  False  False    False            False             False   \n",
       "\n",
       "     Credit_amount  Duration  Purpose  \n",
       "0            False     False    False  \n",
       "1            False     False    False  \n",
       "2            False     False    False  \n",
       "3            False     False    False  \n",
       "4            False     False    False  \n",
       "..             ...       ...      ...  \n",
       "995          False     False    False  \n",
       "996          False     False    False  \n",
       "997          False     False    False  \n",
       "998          False     False    False  \n",
       "999          False     False    False  \n",
       "\n",
       "[1000 rows x 9 columns]"
      ]
     },
     "execution_count": 15,
     "metadata": {},
     "output_type": "execute_result"
    }
   ],
   "source": [
    "# Nulity Dataframe\n",
    "Credit_missing = GCredit.isnull()\n",
    "Credit_missing"
   ]
  },
  {
   "cell_type": "code",
   "execution_count": 16,
   "id": "18f41a79",
   "metadata": {
    "scrolled": true
   },
   "outputs": [
    {
     "data": {
      "text/plain": [
       "Age                   0\n",
       "Sex                   0\n",
       "Job                   0\n",
       "Housing               0\n",
       "Saving_accounts     183\n",
       "Checking_account    394\n",
       "Credit_amount         0\n",
       "Duration              0\n",
       "Purpose               0\n",
       "dtype: int64"
      ]
     },
     "execution_count": 16,
     "metadata": {},
     "output_type": "execute_result"
    }
   ],
   "source": [
    "# Toatal mising Values\n",
    "A = Credit_missing.sum()\n",
    "A"
   ]
  },
  {
   "cell_type": "code",
   "execution_count": 17,
   "id": "5e4351b8",
   "metadata": {},
   "outputs": [],
   "source": [
    "x = list(A.index)\n",
    "y =list(A.values)"
   ]
  },
  {
   "cell_type": "code",
   "execution_count": 18,
   "id": "a6efbf63",
   "metadata": {},
   "outputs": [
    {
     "data": {
      "image/png": "[encoded data removed]",
      "text/plain": [
       "<Figure size 1080x360 with 1 Axes>"
      ]
     },
     "metadata": {
      "needs_background": "light"
     },
     "output_type": "display_data"
    }
   ],
   "source": [
    "plt.figure(figsize = (15,5))\n",
    "plt.title(\"Distribution of Null Values in Features\")\n",
    "plt.bar(x, y)\n",
    "plt.xlabel(\"Features\")\n",
    "plt.ylabel(\"Count Of Missing values\")\n",
    "plt.show()"
   ]
  },
  {
   "cell_type": "markdown",
   "id": "4e158c24",
   "metadata": {},
   "source": [
    "* Here i used sum function to find total number of missing values.and i can easily see there is no missing values other than saving accounts and Checking account.in saving account 183 missing values.and in Checking acount 394 missing Values."
   ]
  },
  {
   "cell_type": "code",
   "execution_count": 19,
   "id": "8f4f8efb",
   "metadata": {},
   "outputs": [],
   "source": [
    "# Percentage of Missing Values"
   ]
  },
  {
   "cell_type": "code",
   "execution_count": 20,
   "id": "ea05a193",
   "metadata": {},
   "outputs": [
    {
     "data": {
      "text/plain": [
       "Age                  0.0\n",
       "Sex                  0.0\n",
       "Job                  0.0\n",
       "Housing              0.0\n",
       "Saving_accounts     18.3\n",
       "Checking_account    39.4\n",
       "Credit_amount        0.0\n",
       "Duration             0.0\n",
       "Purpose              0.0\n",
       "dtype: float64"
      ]
     },
     "execution_count": 20,
     "metadata": {},
     "output_type": "execute_result"
    }
   ],
   "source": [
    "Credit_missing.mean() * 100"
   ]
  },
  {
   "cell_type": "markdown",
   "id": "9cec2329",
   "metadata": {},
   "source": [
    "* Here i found missing values ammount in percentage.and i Saving Account there is nearly 18 % Data is missing. And in Checking account there is nearly 39 % data is missing."
   ]
  },
  {
   "cell_type": "code",
   "execution_count": 21,
   "id": "fe5719d1",
   "metadata": {},
   "outputs": [
    {
     "data": {
      "text/plain": [
       "Age                  53\n",
       "Sex                   2\n",
       "Job                   4\n",
       "Housing               3\n",
       "Saving_accounts       4\n",
       "Checking_account      3\n",
       "Credit_amount       921\n",
       "Duration             33\n",
       "Purpose               8\n",
       "dtype: int64"
      ]
     },
     "execution_count": 21,
     "metadata": {},
     "output_type": "execute_result"
    }
   ],
   "source": [
    "GCredit.nunique()"
   ]
  },
  {
   "cell_type": "code",
   "execution_count": 22,
   "id": "734dba54",
   "metadata": {},
   "outputs": [
    {
     "data": {
      "text/plain": [
       "array(['male', 'female'], dtype=object)"
      ]
     },
     "execution_count": 22,
     "metadata": {},
     "output_type": "execute_result"
    }
   ],
   "source": [
    "GCredit .Sex.unique()"
   ]
  },
  {
   "cell_type": "code",
   "execution_count": 23,
   "id": "946830aa",
   "metadata": {},
   "outputs": [
    {
     "data": {
      "text/plain": [
       "array(['own', 'free', 'rent'], dtype=object)"
      ]
     },
     "execution_count": 23,
     "metadata": {},
     "output_type": "execute_result"
    }
   ],
   "source": [
    "GCredit.Housing.unique()"
   ]
  },
  {
   "cell_type": "code",
   "execution_count": 24,
   "id": "541597e7",
   "metadata": {},
   "outputs": [
    {
     "data": {
      "text/plain": [
       "array([nan, 'little', 'quite rich', 'rich', 'moderate'], dtype=object)"
      ]
     },
     "execution_count": 24,
     "metadata": {},
     "output_type": "execute_result"
    }
   ],
   "source": [
    "GCredit.Saving_accounts.unique()"
   ]
  },
  {
   "cell_type": "code",
   "execution_count": 25,
   "id": "e48c36d7",
   "metadata": {},
   "outputs": [
    {
     "data": {
      "text/plain": [
       "array(['little', 'moderate', nan, 'rich'], dtype=object)"
      ]
     },
     "execution_count": 25,
     "metadata": {},
     "output_type": "execute_result"
    }
   ],
   "source": [
    "GCredit.Checking_account.unique()"
   ]
  },
  {
   "cell_type": "code",
   "execution_count": 26,
   "id": "adadee3b",
   "metadata": {},
   "outputs": [
    {
     "data": {
      "text/plain": [
       "array(['radio/TV', 'education', 'furniture/equipment', 'car', 'business',\n",
       "       'domestic appliances', 'repairs', 'vacation/others'], dtype=object)"
      ]
     },
     "execution_count": 26,
     "metadata": {},
     "output_type": "execute_result"
    }
   ],
   "source": [
    "GCredit.Purpose.unique()"
   ]
  },
  {
   "cell_type": "markdown",
   "id": "3ddc33fa",
   "metadata": {},
   "source": [
    "* Here i used the unique function for Categorical column because i want to know in each column how many Category are present."
   ]
  },
  {
   "cell_type": "markdown",
   "id": "0ac7c18c",
   "metadata": {},
   "source": [
    "###  Encoding Categorical Data"
   ]
  },
  {
   "cell_type": "markdown",
   "id": "3a957de7",
   "metadata": {},
   "source": [
    "* Remember NaN are Float in Python"
   ]
  },
  {
   "cell_type": "code",
   "execution_count": 27,
   "id": "4da22277",
   "metadata": {},
   "outputs": [
    {
     "data": {
      "text/html": [
       "<div>\n",
       "<style scoped>\n",
       "    .dataframe tbody tr th:only-of-type {\n",
       "        vertical-align: middle;\n",
       "    }\n",
       "\n",
       "    .dataframe tbody tr th {\n",
       "        vertical-align: top;\n",
       "    }\n",
       "\n",
       "    .dataframe thead th {\n",
       "        text-align: right;\n",
       "    }\n",
       "</style>\n",
       "<table border=\"1\" class=\"dataframe\">\n",
       "  <thead>\n",
       "    <tr style=\"text-align: right;\">\n",
       "      <th></th>\n",
       "      <th>Age</th>\n",
       "      <th>Sex</th>\n",
       "      <th>Job</th>\n",
       "      <th>Housing</th>\n",
       "      <th>Saving_accounts</th>\n",
       "      <th>Checking_account</th>\n",
       "      <th>Credit_amount</th>\n",
       "      <th>Duration</th>\n",
       "      <th>Purpose</th>\n",
       "    </tr>\n",
       "  </thead>\n",
       "  <tbody>\n",
       "    <tr>\n",
       "      <th>0</th>\n",
       "      <td>67</td>\n",
       "      <td>0</td>\n",
       "      <td>2</td>\n",
       "      <td>0</td>\n",
       "      <td>NaN</td>\n",
       "      <td>0.0</td>\n",
       "      <td>1169</td>\n",
       "      <td>6</td>\n",
       "      <td>0</td>\n",
       "    </tr>\n",
       "    <tr>\n",
       "      <th>1</th>\n",
       "      <td>22</td>\n",
       "      <td>1</td>\n",
       "      <td>2</td>\n",
       "      <td>0</td>\n",
       "      <td>0.0</td>\n",
       "      <td>1.0</td>\n",
       "      <td>5951</td>\n",
       "      <td>48</td>\n",
       "      <td>0</td>\n",
       "    </tr>\n",
       "    <tr>\n",
       "      <th>2</th>\n",
       "      <td>49</td>\n",
       "      <td>0</td>\n",
       "      <td>1</td>\n",
       "      <td>0</td>\n",
       "      <td>0.0</td>\n",
       "      <td>NaN</td>\n",
       "      <td>2096</td>\n",
       "      <td>12</td>\n",
       "      <td>1</td>\n",
       "    </tr>\n",
       "    <tr>\n",
       "      <th>3</th>\n",
       "      <td>45</td>\n",
       "      <td>0</td>\n",
       "      <td>2</td>\n",
       "      <td>1</td>\n",
       "      <td>0.0</td>\n",
       "      <td>0.0</td>\n",
       "      <td>7882</td>\n",
       "      <td>42</td>\n",
       "      <td>2</td>\n",
       "    </tr>\n",
       "    <tr>\n",
       "      <th>4</th>\n",
       "      <td>53</td>\n",
       "      <td>0</td>\n",
       "      <td>2</td>\n",
       "      <td>1</td>\n",
       "      <td>0.0</td>\n",
       "      <td>0.0</td>\n",
       "      <td>4870</td>\n",
       "      <td>24</td>\n",
       "      <td>3</td>\n",
       "    </tr>\n",
       "    <tr>\n",
       "      <th>...</th>\n",
       "      <td>...</td>\n",
       "      <td>...</td>\n",
       "      <td>...</td>\n",
       "      <td>...</td>\n",
       "      <td>...</td>\n",
       "      <td>...</td>\n",
       "      <td>...</td>\n",
       "      <td>...</td>\n",
       "      <td>...</td>\n",
       "    </tr>\n",
       "    <tr>\n",
       "      <th>995</th>\n",
       "      <td>31</td>\n",
       "      <td>1</td>\n",
       "      <td>1</td>\n",
       "      <td>0</td>\n",
       "      <td>0.0</td>\n",
       "      <td>NaN</td>\n",
       "      <td>1736</td>\n",
       "      <td>12</td>\n",
       "      <td>2</td>\n",
       "    </tr>\n",
       "    <tr>\n",
       "      <th>996</th>\n",
       "      <td>40</td>\n",
       "      <td>0</td>\n",
       "      <td>3</td>\n",
       "      <td>0</td>\n",
       "      <td>0.0</td>\n",
       "      <td>0.0</td>\n",
       "      <td>3857</td>\n",
       "      <td>30</td>\n",
       "      <td>3</td>\n",
       "    </tr>\n",
       "    <tr>\n",
       "      <th>997</th>\n",
       "      <td>38</td>\n",
       "      <td>0</td>\n",
       "      <td>2</td>\n",
       "      <td>0</td>\n",
       "      <td>0.0</td>\n",
       "      <td>NaN</td>\n",
       "      <td>804</td>\n",
       "      <td>12</td>\n",
       "      <td>0</td>\n",
       "    </tr>\n",
       "    <tr>\n",
       "      <th>998</th>\n",
       "      <td>23</td>\n",
       "      <td>0</td>\n",
       "      <td>2</td>\n",
       "      <td>1</td>\n",
       "      <td>0.0</td>\n",
       "      <td>0.0</td>\n",
       "      <td>1845</td>\n",
       "      <td>45</td>\n",
       "      <td>0</td>\n",
       "    </tr>\n",
       "    <tr>\n",
       "      <th>999</th>\n",
       "      <td>27</td>\n",
       "      <td>0</td>\n",
       "      <td>2</td>\n",
       "      <td>0</td>\n",
       "      <td>1.0</td>\n",
       "      <td>1.0</td>\n",
       "      <td>4576</td>\n",
       "      <td>45</td>\n",
       "      <td>3</td>\n",
       "    </tr>\n",
       "  </tbody>\n",
       "</table>\n",
       "<p>1000 rows × 9 columns</p>\n",
       "</div>"
      ],
      "text/plain": [
       "     Age  Sex  Job  Housing  Saving_accounts  Checking_account  Credit_amount  \\\n",
       "0     67    0    2        0              NaN               0.0           1169   \n",
       "1     22    1    2        0              0.0               1.0           5951   \n",
       "2     49    0    1        0              0.0               NaN           2096   \n",
       "3     45    0    2        1              0.0               0.0           7882   \n",
       "4     53    0    2        1              0.0               0.0           4870   \n",
       "..   ...  ...  ...      ...              ...               ...            ...   \n",
       "995   31    1    1        0              0.0               NaN           1736   \n",
       "996   40    0    3        0              0.0               0.0           3857   \n",
       "997   38    0    2        0              0.0               NaN            804   \n",
       "998   23    0    2        1              0.0               0.0           1845   \n",
       "999   27    0    2        0              1.0               1.0           4576   \n",
       "\n",
       "     Duration  Purpose  \n",
       "0           6        0  \n",
       "1          48        0  \n",
       "2          12        1  \n",
       "3          42        2  \n",
       "4          24        3  \n",
       "..        ...      ...  \n",
       "995        12        2  \n",
       "996        30        3  \n",
       "997        12        0  \n",
       "998        45        0  \n",
       "999        45        3  \n",
       "\n",
       "[1000 rows x 9 columns]"
      ]
     },
     "execution_count": 27,
     "metadata": {},
     "output_type": "execute_result"
    }
   ],
   "source": [
    "# Converting Males to 0 and Females to 1\n",
    "GCredit['Sex'] = GCredit.Sex.map({'male' : 0, 'female' : 1})\n",
    "# Converting own to 0, rent to 1, free to 2\n",
    "GCredit['Housing'] = GCredit.Housing.map({'own' : 0, 'free' : 1, 'rent' : 2})\n",
    "# Converting little to 0, modirate to 1, quite rich to 2, rich to 3\n",
    "GCredit['Saving_accounts'] = GCredit.Saving_accounts.map({'little' : 0, 'moderate' : 1, 'quite rich' : 2, 'rich' : 3})\n",
    "GCredit['Checking_account'] = GCredit.Checking_account.map({'little' : 0, 'moderate' : 1, 'rich' : 2})\n",
    "GCredit['Purpose'] = GCredit.Purpose.map({'radio/TV' : 0, 'education' : 1, 'furniture/equipment' : 2, 'car' : 3, 'business': 4,'domestic appliances' : 5, 'repairs' : 6, 'vacation/others' : 7})\n",
    "GCredit\n"
   ]
  },
  {
   "cell_type": "markdown",
   "id": "4c4bd631",
   "metadata": {},
   "source": [
    "* Here i try to convert categorical data into numerical data.bcause python can not understand category.so thats why i converted into numeric.Now our Data is Ready for Basic imputation Techniques."
   ]
  },
  {
   "cell_type": "markdown",
   "id": "a8cbb98f",
   "metadata": {},
   "source": [
    "## Basic Imputation Techniques"
   ]
  },
  {
   "cell_type": "markdown",
   "id": "3dfef047",
   "metadata": {},
   "source": [
    "* Here i can use only mode Imputation Techniques becaues we Found Missing Values in only Categorical column."
   ]
  },
  {
   "cell_type": "markdown",
   "id": "df147488",
   "metadata": {},
   "source": [
    "### Mode Imputation"
   ]
  },
  {
   "cell_type": "code",
   "execution_count": 28,
   "id": "acfec1de",
   "metadata": {},
   "outputs": [],
   "source": [
    "from sklearn.impute import SimpleImputer"
   ]
  },
  {
   "cell_type": "code",
   "execution_count": 29,
   "id": "ed4e6b85",
   "metadata": {},
   "outputs": [],
   "source": [
    "GCredit_mode = GCredit.copy(deep = True) # Creating Copy For Further evaluations\n",
    "mode_imputer = SimpleImputer(strategy = 'most_frequent')\n",
    "GCredit_mode.iloc[:, :] = mode_imputer.fit_transform(GCredit_mode)"
   ]
  },
  {
   "cell_type": "code",
   "execution_count": 30,
   "id": "5c8e3775",
   "metadata": {},
   "outputs": [
    {
     "data": {
      "text/html": [
       "<div>\n",
       "<style scoped>\n",
       "    .dataframe tbody tr th:only-of-type {\n",
       "        vertical-align: middle;\n",
       "    }\n",
       "\n",
       "    .dataframe tbody tr th {\n",
       "        vertical-align: top;\n",
       "    }\n",
       "\n",
       "    .dataframe thead th {\n",
       "        text-align: right;\n",
       "    }\n",
       "</style>\n",
       "<table border=\"1\" class=\"dataframe\">\n",
       "  <thead>\n",
       "    <tr style=\"text-align: right;\">\n",
       "      <th></th>\n",
       "      <th>Age</th>\n",
       "      <th>Sex</th>\n",
       "      <th>Job</th>\n",
       "      <th>Housing</th>\n",
       "      <th>Saving_accounts</th>\n",
       "      <th>Checking_account</th>\n",
       "      <th>Credit_amount</th>\n",
       "      <th>Duration</th>\n",
       "      <th>Purpose</th>\n",
       "    </tr>\n",
       "  </thead>\n",
       "  <tbody>\n",
       "    <tr>\n",
       "      <th>0</th>\n",
       "      <td>67.0</td>\n",
       "      <td>0.0</td>\n",
       "      <td>2.0</td>\n",
       "      <td>0.0</td>\n",
       "      <td>0.0</td>\n",
       "      <td>0.0</td>\n",
       "      <td>1169.0</td>\n",
       "      <td>6.0</td>\n",
       "      <td>0.0</td>\n",
       "    </tr>\n",
       "    <tr>\n",
       "      <th>1</th>\n",
       "      <td>22.0</td>\n",
       "      <td>1.0</td>\n",
       "      <td>2.0</td>\n",
       "      <td>0.0</td>\n",
       "      <td>0.0</td>\n",
       "      <td>1.0</td>\n",
       "      <td>5951.0</td>\n",
       "      <td>48.0</td>\n",
       "      <td>0.0</td>\n",
       "    </tr>\n",
       "    <tr>\n",
       "      <th>2</th>\n",
       "      <td>49.0</td>\n",
       "      <td>0.0</td>\n",
       "      <td>1.0</td>\n",
       "      <td>0.0</td>\n",
       "      <td>0.0</td>\n",
       "      <td>0.0</td>\n",
       "      <td>2096.0</td>\n",
       "      <td>12.0</td>\n",
       "      <td>1.0</td>\n",
       "    </tr>\n",
       "    <tr>\n",
       "      <th>3</th>\n",
       "      <td>45.0</td>\n",
       "      <td>0.0</td>\n",
       "      <td>2.0</td>\n",
       "      <td>1.0</td>\n",
       "      <td>0.0</td>\n",
       "      <td>0.0</td>\n",
       "      <td>7882.0</td>\n",
       "      <td>42.0</td>\n",
       "      <td>2.0</td>\n",
       "    </tr>\n",
       "    <tr>\n",
       "      <th>4</th>\n",
       "      <td>53.0</td>\n",
       "      <td>0.0</td>\n",
       "      <td>2.0</td>\n",
       "      <td>1.0</td>\n",
       "      <td>0.0</td>\n",
       "      <td>0.0</td>\n",
       "      <td>4870.0</td>\n",
       "      <td>24.0</td>\n",
       "      <td>3.0</td>\n",
       "    </tr>\n",
       "  </tbody>\n",
       "</table>\n",
       "</div>"
      ],
      "text/plain": [
       "    Age  Sex  Job  Housing  Saving_accounts  Checking_account  Credit_amount  \\\n",
       "0  67.0  0.0  2.0      0.0              0.0               0.0         1169.0   \n",
       "1  22.0  1.0  2.0      0.0              0.0               1.0         5951.0   \n",
       "2  49.0  0.0  1.0      0.0              0.0               0.0         2096.0   \n",
       "3  45.0  0.0  2.0      1.0              0.0               0.0         7882.0   \n",
       "4  53.0  0.0  2.0      1.0              0.0               0.0         4870.0   \n",
       "\n",
       "   Duration  Purpose  \n",
       "0       6.0      0.0  \n",
       "1      48.0      0.0  \n",
       "2      12.0      1.0  \n",
       "3      42.0      2.0  \n",
       "4      24.0      3.0  "
      ]
     },
     "execution_count": 30,
     "metadata": {},
     "output_type": "execute_result"
    }
   ],
   "source": [
    "GCredit_mode.head()"
   ]
  },
  {
   "cell_type": "markdown",
   "id": "e9e9872c",
   "metadata": {},
   "source": [
    "* using mode imputation technique i replace the missing Values."
   ]
  },
  {
   "cell_type": "markdown",
   "id": "fc197562",
   "metadata": {},
   "source": [
    "## To Check No of Variables that are normally distributed"
   ]
  },
  {
   "cell_type": "markdown",
   "id": "a0ee6fd5",
   "metadata": {},
   "source": [
    "* For Normally Distribution i have used all numeric variables to uderstand the distribution"
   ]
  },
  {
   "cell_type": "code",
   "execution_count": 31,
   "id": "40a692a8",
   "metadata": {},
   "outputs": [
    {
     "data": {
      "text/plain": [
       "<seaborn.axisgrid.FacetGrid at 0x21fb1b25d30>"
      ]
     },
     "execution_count": 31,
     "metadata": {},
     "output_type": "execute_result"
    },
    {
     "data": {
      "text/plain": [
       "<Figure size 720x360 with 0 Axes>"
      ]
     },
     "metadata": {},
     "output_type": "display_data"
    },
    {
     "data": {
      "image/png": "[encoded data removed]",
      "text/plain": [
       "<Figure size 360x360 with 1 Axes>"
      ]
     },
     "metadata": {
      "needs_background": "light"
     },
     "output_type": "display_data"
    }
   ],
   "source": [
    "plt.figure(figsize=(10, 5))\n",
    "sns.displot(data=GCredit, x=\"Age\", kde=True)"
   ]
  },
  {
   "cell_type": "code",
   "execution_count": 32,
   "id": "f26467aa",
   "metadata": {},
   "outputs": [
    {
     "data": {
      "text/plain": [
       "<seaborn.axisgrid.FacetGrid at 0x21fb2909e20>"
      ]
     },
     "execution_count": 32,
     "metadata": {},
     "output_type": "execute_result"
    },
    {
     "data": {
      "text/plain": [
       "<Figure size 720x360 with 0 Axes>"
      ]
     },
     "metadata": {},
     "output_type": "display_data"
    },
    {
     "data": {
      "image/png": "[encoded data removed]",
      "text/plain": [
       "<Figure size 360x360 with 1 Axes>"
      ]
     },
     "metadata": {
      "needs_background": "light"
     },
     "output_type": "display_data"
    }
   ],
   "source": [
    "plt.figure(figsize=(10, 5))\n",
    "sns.displot(data = GCredit , x=\"Credit_amount\",color='teal', kde=True)"
   ]
  },
  {
   "cell_type": "code",
   "execution_count": 33,
   "id": "1c9a48ed",
   "metadata": {
    "scrolled": true
   },
   "outputs": [
    {
     "data": {
      "text/plain": [
       "<seaborn.axisgrid.FacetGrid at 0x21fb28e5640>"
      ]
     },
     "execution_count": 33,
     "metadata": {},
     "output_type": "execute_result"
    },
    {
     "data": {
      "image/png": "[encoded data removed]",
      "text/plain": [
       "<Figure size 360x360 with 1 Axes>"
      ]
     },
     "metadata": {
      "needs_background": "light"
     },
     "output_type": "display_data"
    }
   ],
   "source": [
    "sns.displot(data = GCredit , x=\"Duration\", kde=True)"
   ]
  },
  {
   "cell_type": "code",
   "execution_count": 34,
   "id": "baed4536",
   "metadata": {},
   "outputs": [
    {
     "data": {
      "text/plain": [
       "<seaborn.axisgrid.FacetGrid at 0x21fb296ca00>"
      ]
     },
     "execution_count": 34,
     "metadata": {},
     "output_type": "execute_result"
    },
    {
     "data": {
      "text/plain": [
       "<Figure size 720x360 with 0 Axes>"
      ]
     },
     "metadata": {},
     "output_type": "display_data"
    },
    {
     "data": {
      "image/png": "[encoded data removed]",
      "text/plain": [
       "<Figure size 360x360 with 1 Axes>"
      ]
     },
     "metadata": {
      "needs_background": "light"
     },
     "output_type": "display_data"
    }
   ],
   "source": [
    "plt.figure(figsize=(10, 5))\n",
    "sns.displot(data = GCredit , x=\"Duration\",color='indigo', kde=True)"
   ]
  },
  {
   "cell_type": "markdown",
   "id": "26e26d00",
   "metadata": {},
   "source": [
    "* Here i Can easily see our Numerical Variables are skewed distributed."
   ]
  },
  {
   "cell_type": "markdown",
   "id": "d4093b08",
   "metadata": {},
   "source": [
    "##  Outliers"
   ]
  },
  {
   "cell_type": "code",
   "execution_count": 35,
   "id": "de011b80",
   "metadata": {},
   "outputs": [
    {
     "data": {
      "text/plain": [
       "<AxesSubplot:xlabel='Age'>"
      ]
     },
     "execution_count": 35,
     "metadata": {},
     "output_type": "execute_result"
    },
    {
     "data": {
      "image/png": "[encoded data removed]",
      "text/plain": [
       "<Figure size 432x288 with 1 Axes>"
      ]
     },
     "metadata": {
      "needs_background": "light"
     },
     "output_type": "display_data"
    }
   ],
   "source": [
    "sns.boxplot(x =\"Age\",color=\"pink\",data= GCredit)"
   ]
  },
  {
   "cell_type": "code",
   "execution_count": 36,
   "id": "ebb1f58d",
   "metadata": {},
   "outputs": [
    {
     "data": {
      "text/plain": [
       "<AxesSubplot:xlabel='Credit_amount'>"
      ]
     },
     "execution_count": 36,
     "metadata": {},
     "output_type": "execute_result"
    },
    {
     "data": {
      "image/png": "[encoded data removed]",
      "text/plain": [
       "<Figure size 432x288 with 1 Axes>"
      ]
     },
     "metadata": {
      "needs_background": "light"
     },
     "output_type": "display_data"
    }
   ],
   "source": [
    "sns.boxplot(x =\"Credit_amount\",color=\"cyan\",data=GCredit)"
   ]
  },
  {
   "cell_type": "markdown",
   "id": "2f4efa81",
   "metadata": {},
   "source": [
    "* Here i used the boxplot to check outlier.the features 'Age' and 'Credit_amount has an outlier."
   ]
  },
  {
   "cell_type": "markdown",
   "id": "e62699a0",
   "metadata": {},
   "source": [
    " ## Correlation Matrix"
   ]
  },
  {
   "cell_type": "code",
   "execution_count": 37,
   "id": "534b49bd",
   "metadata": {},
   "outputs": [
    {
     "data": {
      "text/html": [
       "<div>\n",
       "<style scoped>\n",
       "    .dataframe tbody tr th:only-of-type {\n",
       "        vertical-align: middle;\n",
       "    }\n",
       "\n",
       "    .dataframe tbody tr th {\n",
       "        vertical-align: top;\n",
       "    }\n",
       "\n",
       "    .dataframe thead th {\n",
       "        text-align: right;\n",
       "    }\n",
       "</style>\n",
       "<table border=\"1\" class=\"dataframe\">\n",
       "  <thead>\n",
       "    <tr style=\"text-align: right;\">\n",
       "      <th></th>\n",
       "      <th>Age</th>\n",
       "      <th>Sex</th>\n",
       "      <th>Job</th>\n",
       "      <th>Housing</th>\n",
       "      <th>Saving_accounts</th>\n",
       "      <th>Checking_account</th>\n",
       "      <th>Credit_amount</th>\n",
       "      <th>Duration</th>\n",
       "      <th>Purpose</th>\n",
       "    </tr>\n",
       "  </thead>\n",
       "  <tbody>\n",
       "    <tr>\n",
       "      <th>Age</th>\n",
       "      <td>1.000000</td>\n",
       "      <td>-0.222706</td>\n",
       "      <td>0.041327</td>\n",
       "      <td>-0.102691</td>\n",
       "      <td>0.025071</td>\n",
       "      <td>0.009736</td>\n",
       "      <td>0.026298</td>\n",
       "      <td>-0.036316</td>\n",
       "      <td>0.078345</td>\n",
       "    </tr>\n",
       "    <tr>\n",
       "      <th>Sex</th>\n",
       "      <td>-0.222706</td>\n",
       "      <td>1.000000</td>\n",
       "      <td>-0.061081</td>\n",
       "      <td>0.150397</td>\n",
       "      <td>-0.004566</td>\n",
       "      <td>-0.002346</td>\n",
       "      <td>-0.115849</td>\n",
       "      <td>-0.073024</td>\n",
       "      <td>-0.064669</td>\n",
       "    </tr>\n",
       "    <tr>\n",
       "      <th>Job</th>\n",
       "      <td>0.041327</td>\n",
       "      <td>-0.061081</td>\n",
       "      <td>1.000000</td>\n",
       "      <td>0.047202</td>\n",
       "      <td>-0.026776</td>\n",
       "      <td>-0.006063</td>\n",
       "      <td>0.298345</td>\n",
       "      <td>0.227266</td>\n",
       "      <td>0.037562</td>\n",
       "    </tr>\n",
       "    <tr>\n",
       "      <th>Housing</th>\n",
       "      <td>-0.102691</td>\n",
       "      <td>0.150397</td>\n",
       "      <td>0.047202</td>\n",
       "      <td>1.000000</td>\n",
       "      <td>0.000365</td>\n",
       "      <td>-0.109128</td>\n",
       "      <td>0.090845</td>\n",
       "      <td>0.032870</td>\n",
       "      <td>0.054476</td>\n",
       "    </tr>\n",
       "    <tr>\n",
       "      <th>Saving_accounts</th>\n",
       "      <td>0.025071</td>\n",
       "      <td>-0.004566</td>\n",
       "      <td>-0.026776</td>\n",
       "      <td>0.000365</td>\n",
       "      <td>1.000000</td>\n",
       "      <td>0.206946</td>\n",
       "      <td>-0.043843</td>\n",
       "      <td>-0.001606</td>\n",
       "      <td>0.042702</td>\n",
       "    </tr>\n",
       "    <tr>\n",
       "      <th>Checking_account</th>\n",
       "      <td>0.009736</td>\n",
       "      <td>-0.002346</td>\n",
       "      <td>-0.006063</td>\n",
       "      <td>-0.109128</td>\n",
       "      <td>0.206946</td>\n",
       "      <td>1.000000</td>\n",
       "      <td>-0.021969</td>\n",
       "      <td>-0.050058</td>\n",
       "      <td>-0.044757</td>\n",
       "    </tr>\n",
       "    <tr>\n",
       "      <th>Credit_amount</th>\n",
       "      <td>0.026298</td>\n",
       "      <td>-0.115849</td>\n",
       "      <td>0.298345</td>\n",
       "      <td>0.090845</td>\n",
       "      <td>-0.043843</td>\n",
       "      <td>-0.021969</td>\n",
       "      <td>1.000000</td>\n",
       "      <td>0.624709</td>\n",
       "      <td>0.182061</td>\n",
       "    </tr>\n",
       "    <tr>\n",
       "      <th>Duration</th>\n",
       "      <td>-0.036316</td>\n",
       "      <td>-0.073024</td>\n",
       "      <td>0.227266</td>\n",
       "      <td>0.032870</td>\n",
       "      <td>-0.001606</td>\n",
       "      <td>-0.050058</td>\n",
       "      <td>0.624709</td>\n",
       "      <td>1.000000</td>\n",
       "      <td>0.115248</td>\n",
       "    </tr>\n",
       "    <tr>\n",
       "      <th>Purpose</th>\n",
       "      <td>0.078345</td>\n",
       "      <td>-0.064669</td>\n",
       "      <td>0.037562</td>\n",
       "      <td>0.054476</td>\n",
       "      <td>0.042702</td>\n",
       "      <td>-0.044757</td>\n",
       "      <td>0.182061</td>\n",
       "      <td>0.115248</td>\n",
       "      <td>1.000000</td>\n",
       "    </tr>\n",
       "  </tbody>\n",
       "</table>\n",
       "</div>"
      ],
      "text/plain": [
       "                       Age       Sex       Job   Housing  Saving_accounts  \\\n",
       "Age               1.000000 -0.222706  0.041327 -0.102691         0.025071   \n",
       "Sex              -0.222706  1.000000 -0.061081  0.150397        -0.004566   \n",
       "Job               0.041327 -0.061081  1.000000  0.047202        -0.026776   \n",
       "Housing          -0.102691  0.150397  0.047202  1.000000         0.000365   \n",
       "Saving_accounts   0.025071 -0.004566 -0.026776  0.000365         1.000000   \n",
       "Checking_account  0.009736 -0.002346 -0.006063 -0.109128         0.206946   \n",
       "Credit_amount     0.026298 -0.115849  0.298345  0.090845        -0.043843   \n",
       "Duration         -0.036316 -0.073024  0.227266  0.032870        -0.001606   \n",
       "Purpose           0.078345 -0.064669  0.037562  0.054476         0.042702   \n",
       "\n",
       "                  Checking_account  Credit_amount  Duration   Purpose  \n",
       "Age                       0.009736       0.026298 -0.036316  0.078345  \n",
       "Sex                      -0.002346      -0.115849 -0.073024 -0.064669  \n",
       "Job                      -0.006063       0.298345  0.227266  0.037562  \n",
       "Housing                  -0.109128       0.090845  0.032870  0.054476  \n",
       "Saving_accounts           0.206946      -0.043843 -0.001606  0.042702  \n",
       "Checking_account          1.000000      -0.021969 -0.050058 -0.044757  \n",
       "Credit_amount            -0.021969       1.000000  0.624709  0.182061  \n",
       "Duration                 -0.050058       0.624709  1.000000  0.115248  \n",
       "Purpose                  -0.044757       0.182061  0.115248  1.000000  "
      ]
     },
     "execution_count": 37,
     "metadata": {},
     "output_type": "execute_result"
    }
   ],
   "source": [
    "GCredit.corr(method ='spearman')"
   ]
  },
  {
   "cell_type": "markdown",
   "id": "d25873e2",
   "metadata": {},
   "source": [
    "* Credit_amount is our dependant variables so we will look at correlation between Credit_amount and all other variables."
   ]
  },
  {
   "cell_type": "code",
   "execution_count": 38,
   "id": "3a9533c4",
   "metadata": {},
   "outputs": [
    {
     "data": {
      "text/plain": [
       "Text(0.5, 1.0, 'Spearman Correlation')"
      ]
     },
     "execution_count": 38,
     "metadata": {},
     "output_type": "execute_result"
    },
    {
     "data": {
      "image/png": "[encoded data removed]",
      "text/plain": [
       "<Figure size 1152x720 with 2 Axes>"
      ]
     },
     "metadata": {
      "needs_background": "light"
     },
     "output_type": "display_data"
    }
   ],
   "source": [
    "def display_correlation(df):\n",
    "    r = GCredit.corr(method=\"spearman\")\n",
    "plt.figure(figsize=(16,10))\n",
    "heatmap = sns.heatmap(GCredit.corr(), vmin=-1, vmax=1, annot=True,cmap=\"YlGnBu\")\n",
    "plt.title(\"Spearman Correlation\")"
   ]
  },
  {
   "cell_type": "code",
   "execution_count": 39,
   "id": "de757b02",
   "metadata": {},
   "outputs": [
    {
     "name": "stdout",
     "output_type": "stream",
     "text": [
      "<class 'pandas.core.frame.DataFrame'>\n",
      "RangeIndex: 1000 entries, 0 to 999\n",
      "Data columns (total 9 columns):\n",
      " #   Column            Non-Null Count  Dtype \n",
      "---  ------            --------------  ----- \n",
      " 0   Age               1000 non-null   int64 \n",
      " 1   Sex               1000 non-null   object\n",
      " 2   Job               1000 non-null   int64 \n",
      " 3   Housing           1000 non-null   object\n",
      " 4   Saving accounts   817 non-null    object\n",
      " 5   Checking account  606 non-null    object\n",
      " 6   Credit amount     1000 non-null   int64 \n",
      " 7   Duration          1000 non-null   int64 \n",
      " 8   Purpose           1000 non-null   object\n",
      "dtypes: int64(4), object(5)\n",
      "memory usage: 70.4+ KB\n"
     ]
    }
   ],
   "source": [
    "German_Credit.info()"
   ]
  },
  {
   "cell_type": "markdown",
   "id": "0b015dbb",
   "metadata": {},
   "source": [
    "## Categorical variables and Dependent variables(Relation)"
   ]
  },
  {
   "cell_type": "markdown",
   "id": "e1748f4e",
   "metadata": {},
   "source": [
    "* from Above information The Features 'Age', 'Sex', 'Job', 'Housing', 'Saving accounts', 'Checking account', 'purpose' are categorical columns.Credit ammount is our dependent variable."
   ]
  },
  {
   "cell_type": "code",
   "execution_count": 40,
   "id": "3c1630ca",
   "metadata": {},
   "outputs": [
    {
     "data": {
      "text/plain": [
       "0    690\n",
       "1    310\n",
       "Name: Sex, dtype: int64"
      ]
     },
     "execution_count": 40,
     "metadata": {},
     "output_type": "execute_result"
    },
    {
     "data": {
      "image/png": "[encoded data removed]",
      "text/plain": [
       "<Figure size 720x360 with 1 Axes>"
      ]
     },
     "metadata": {
      "needs_background": "light"
     },
     "output_type": "display_data"
    }
   ],
   "source": [
    "plt.figure(figsize=(10,5))\n",
    "sns.boxplot(x=GCredit[\"Sex\"],y=GCredit[\"Credit_amount\"],palette='rainbow')\n",
    "GCredit[\"Sex\"].value_counts()"
   ]
  },
  {
   "cell_type": "markdown",
   "id": "e85b0921",
   "metadata": {},
   "source": [
    "* Here 0 means male and 1 means female.to do easy for visulization above we convert our categorical variables into numerical.from above figure we can clearly see males having highest credit amount than females."
   ]
  },
  {
   "cell_type": "code",
   "execution_count": 41,
   "id": "2137cbcb",
   "metadata": {},
   "outputs": [
    {
     "data": {
      "text/plain": [
       "2    630\n",
       "1    200\n",
       "3    148\n",
       "0     22\n",
       "Name: Job, dtype: int64"
      ]
     },
     "execution_count": 41,
     "metadata": {},
     "output_type": "execute_result"
    },
    {
     "data": {
      "image/png": "[encoded data removed]",
      "text/plain": [
       "<Figure size 720x360 with 1 Axes>"
      ]
     },
     "metadata": {
      "needs_background": "light"
     },
     "output_type": "display_data"
    }
   ],
   "source": [
    "plt.figure(figsize=(10,5))\n",
    "sns.boxplot(x=GCredit[\"Job\"],y=GCredit[\"Credit_amount\"],palette='rainbow')\n",
    "GCredit[\"Job\"].value_counts()"
   ]
  },
  {
   "cell_type": "markdown",
   "id": "52c63934",
   "metadata": {},
   "source": [
    "* Here 0 means unskilled and non-resident, 1 means unskilled and resident, 2 means skilled, 3 means Highly skilled.from above figure we can clearly see skilled job  havings highest credit amount than other job categories."
   ]
  },
  {
   "cell_type": "code",
   "execution_count": 42,
   "id": "1f25955c",
   "metadata": {},
   "outputs": [
    {
     "data": {
      "text/plain": [
       "0    713\n",
       "2    179\n",
       "1    108\n",
       "Name: Housing, dtype: int64"
      ]
     },
     "execution_count": 42,
     "metadata": {},
     "output_type": "execute_result"
    },
    {
     "data": {
      "image/png": "[encoded data removed]",
      "text/plain": [
       "<Figure size 720x360 with 1 Axes>"
      ]
     },
     "metadata": {
      "needs_background": "light"
     },
     "output_type": "display_data"
    }
   ],
   "source": [
    "plt.figure(figsize=(10,5))\n",
    "sns.boxplot(x=GCredit[\"Housing\"],y=GCredit[\"Credit_amount\"],palette='rainbow')\n",
    "GCredit[\"Housing\"].value_counts()"
   ]
  },
  {
   "cell_type": "markdown",
   "id": "ca965430",
   "metadata": {},
   "source": [
    "* Here 0 means own, 1 means free, 2 means rent.to do easy for visulization above we convert our categorical variables into numerical.from above figure we can clearly see free housing havings highest credit amount than other housing categories."
   ]
  },
  {
   "cell_type": "code",
   "execution_count": 43,
   "id": "113f7bf6",
   "metadata": {},
   "outputs": [
    {
     "data": {
      "text/plain": [
       "0.0    603\n",
       "1.0    103\n",
       "2.0     63\n",
       "3.0     48\n",
       "Name: Saving_accounts, dtype: int64"
      ]
     },
     "execution_count": 43,
     "metadata": {},
     "output_type": "execute_result"
    },
    {
     "data": {
      "image/png": "[encoded data removed]",
      "text/plain": [
       "<Figure size 720x360 with 1 Axes>"
      ]
     },
     "metadata": {
      "needs_background": "light"
     },
     "output_type": "display_data"
    }
   ],
   "source": [
    "plt.figure(figsize=(10,5))\n",
    "sns.boxplot(x=GCredit[\"Saving_accounts\"],y=GCredit[\"Credit_amount\"],palette='rainbow')\n",
    "GCredit[\"Saving_accounts\"].value_counts()"
   ]
  },
  {
   "cell_type": "markdown",
   "id": "f185025d",
   "metadata": {},
   "source": [
    "* Here 0 means little, 1 means moderate, 2 means quite rich, 3 means rich.to do easy for visulization above we convert our categorical variables into numerical.from above figure we can clearly see moderate saving accounts havings highest credit amount than other saving account categories."
   ]
  },
  {
   "cell_type": "code",
   "execution_count": 44,
   "id": "07a330e8",
   "metadata": {},
   "outputs": [
    {
     "data": {
      "text/plain": [
       "0.0    274\n",
       "1.0    269\n",
       "2.0     63\n",
       "Name: Checking_account, dtype: int64"
      ]
     },
     "execution_count": 44,
     "metadata": {},
     "output_type": "execute_result"
    },
    {
     "data": {
      "image/png": "[encoded data removed]",
      "text/plain": [
       "<Figure size 720x360 with 1 Axes>"
      ]
     },
     "metadata": {
      "needs_background": "light"
     },
     "output_type": "display_data"
    }
   ],
   "source": [
    "plt.figure(figsize=(10,5))\n",
    "sns.boxplot(x=GCredit[\"Checking_account\"],y=GCredit[\"Credit_amount\"],palette='rainbow')\n",
    "GCredit[\"Checking_account\"].value_counts()"
   ]
  },
  {
   "cell_type": "markdown",
   "id": "d169af14",
   "metadata": {},
   "source": [
    "* Here 0 means little, 1 means moderate, 2 means rich.to do easy for visulization above we convert our categorical variables into numerical.from above figure we can clearly see moderate checking accounts havings highest credit amount than other checking account categories."
   ]
  },
  {
   "cell_type": "code",
   "execution_count": 45,
   "id": "a2211c51",
   "metadata": {},
   "outputs": [
    {
     "data": {
      "text/plain": [
       "3    337\n",
       "0    280\n",
       "2    181\n",
       "4     97\n",
       "1     59\n",
       "6     22\n",
       "5     12\n",
       "7     12\n",
       "Name: Purpose, dtype: int64"
      ]
     },
     "execution_count": 45,
     "metadata": {},
     "output_type": "execute_result"
    },
    {
     "data": {
      "image/png": "[encoded data removed]",
      "text/plain": [
       "<Figure size 720x360 with 1 Axes>"
      ]
     },
     "metadata": {
      "needs_background": "light"
     },
     "output_type": "display_data"
    }
   ],
   "source": [
    "plt.figure(figsize=(10,5))\n",
    "sns.boxplot(x=GCredit[\"Purpose\"],y=GCredit[\"Credit_amount\"],palette='rainbow')\n",
    "GCredit[\"Purpose\"].value_counts()"
   ]
  },
  {
   "cell_type": "markdown",
   "id": "b1140bd9",
   "metadata": {},
   "source": [
    "* Here 0 means radio/TV, 1 means education, 2 means furniture/equipment, 3 means car, 4 means business, 5 means domestic appliances, 6 means repairs ,7 means vacation/others.to do easy for visulization above we convert our categorical variables into numerical.from above figure we can clearly see Vacation or others havings highest credit amount than other purposes."
   ]
  },
  {
   "cell_type": "markdown",
   "id": "a7fb2332",
   "metadata": {},
   "source": [
    "### Numerical variables and Dependent variables(Relation)"
   ]
  },
  {
   "cell_type": "markdown",
   "id": "4b37c828",
   "metadata": {},
   "source": [
    "* from Above information The Features Age and Duration are numerical variable.credit ammount is also numerical but it is our dependent variables."
   ]
  },
  {
   "cell_type": "code",
   "execution_count": 46,
   "id": "84a7ce1c",
   "metadata": {},
   "outputs": [
    {
     "data": {
      "image/png": "[encoded data removed]",
      "text/plain": [
       "<Figure size 720x360 with 1 Axes>"
      ]
     },
     "metadata": {
      "needs_background": "light"
     },
     "output_type": "display_data"
    }
   ],
   "source": [
    "plt.figure(figsize = (10,5))\n",
    "plt.title(\"Age vs Credit amount\")\n",
    "plt.xlabel(\"Age\")\n",
    "plt.ylabel(\"Credit amount\")\n",
    "plt.scatter(GCredit['Age'][:100], GCredit['Credit_amount'][:100], color = 'red')\n",
    "plt.show()"
   ]
  },
  {
   "cell_type": "code",
   "execution_count": 47,
   "id": "d0f4f878",
   "metadata": {},
   "outputs": [
    {
     "data": {
      "image/png": "[encoded data removed]",
      "text/plain": [
       "<Figure size 720x360 with 1 Axes>"
      ]
     },
     "metadata": {
      "needs_background": "light"
     },
     "output_type": "display_data"
    }
   ],
   "source": [
    "plt.figure(figsize = (10,5))\n",
    "plt.title(\"Duration vs Credit amount\")\n",
    "plt.xlabel(\"Duration\")\n",
    "plt.ylabel(\"Credit amount\")\n",
    "plt.scatter(GCredit['Duration'][:100], GCredit['Credit_amount'][:100], color = 'blue')\n",
    "plt.show()"
   ]
  },
  {
   "cell_type": "markdown",
   "id": "634f57ef",
   "metadata": {},
   "source": [
    "## Distribution Of Categorical Variables"
   ]
  },
  {
   "cell_type": "code",
   "execution_count": 48,
   "id": "4af94f42",
   "metadata": {},
   "outputs": [
    {
     "data": {
      "image/png": "[encoded data removed]",
      "text/plain": [
       "<Figure size 360x360 with 1 Axes>"
      ]
     },
     "metadata": {
      "needs_background": "light"
     },
     "output_type": "display_data"
    }
   ],
   "source": [
    "sns.displot(x = \"Sex\", data = German_Credit)\n",
    "plt.title(\"Distribution of Sex Variables\")\n",
    "plt.show()"
   ]
  },
  {
   "cell_type": "markdown",
   "id": "6e925639",
   "metadata": {},
   "source": [
    "* From Above figure Males are highly Distributed than Female."
   ]
  },
  {
   "cell_type": "code",
   "execution_count": 49,
   "id": "715925b1",
   "metadata": {},
   "outputs": [
    {
     "data": {
      "image/png": "[encoded data removed]",
      "text/plain": [
       "<Figure size 360x360 with 1 Axes>"
      ]
     },
     "metadata": {
      "needs_background": "light"
     },
     "output_type": "display_data"
    }
   ],
   "source": [
    "sns.displot(x = \"Housing\", data = German_Credit, color = 'green')\n",
    "plt.title(\"Distribution of Housing Variables\")\n",
    "plt.show()"
   ]
  },
  {
   "cell_type": "markdown",
   "id": "5f1c4068",
   "metadata": {},
   "source": [
    "* From Above Figure an own housing categoryis highly Distributed than other housing Categories."
   ]
  },
  {
   "cell_type": "code",
   "execution_count": 50,
   "id": "f5ee644d",
   "metadata": {},
   "outputs": [
    {
     "data": {
      "image/png": "[encoded data removed]",
      "text/plain": [
       "<Figure size 360x360 with 1 Axes>"
      ]
     },
     "metadata": {
      "needs_background": "light"
     },
     "output_type": "display_data"
    }
   ],
   "source": [
    "sns.displot(x = \"Job\", data = German_Credit, color = 'blue')\n",
    "plt.title(\"Distribution of Job Variables\")\n",
    "plt.show()"
   ]
  },
  {
   "cell_type": "markdown",
   "id": "899c2bc6",
   "metadata": {},
   "source": [
    "* Here 0 means unskilled and non-resident, 1 means unskilled and resident, 2 means skilled, 3 means Highly skilled.from above figure we can clearly see skilled job highly distributed than other job categories."
   ]
  },
  {
   "cell_type": "code",
   "execution_count": 51,
   "id": "6e4c5718",
   "metadata": {},
   "outputs": [
    {
     "data": {
      "image/png": "[encoded data removed]",
      "text/plain": [
       "<Figure size 360x360 with 1 Axes>"
      ]
     },
     "metadata": {
      "needs_background": "light"
     },
     "output_type": "display_data"
    }
   ],
   "source": [
    "sns.displot(x = \"Checking account\", data = German_Credit, color = 'green')\n",
    "plt.title(\"Distribution of Checking Account Variables\")\n",
    "plt.show()"
   ]
  },
  {
   "cell_type": "markdown",
   "id": "e379e5dd",
   "metadata": {},
   "source": [
    "* From Above Figure we can see the little Checking account is highly distributed than other other Checking Accounts."
   ]
  },
  {
   "cell_type": "code",
   "execution_count": 52,
   "id": "b109815f",
   "metadata": {},
   "outputs": [
    {
     "data": {
      "image/png": "[encoded data removed]",
      "text/plain": [
       "<Figure size 360x360 with 1 Axes>"
      ]
     },
     "metadata": {
      "needs_background": "light"
     },
     "output_type": "display_data"
    }
   ],
   "source": [
    "sns.displot(x = \"Purpose\", data = GCredit, color = 'red')\n",
    "plt.title(\"Distribution of Purpose Variables\")\n",
    "plt.show()"
   ]
  },
  {
   "cell_type": "markdown",
   "id": "40cdf8d2",
   "metadata": {},
   "source": [
    "* Here 0 means radio/TV, 1 means education, 2 means furniture/equipment, 3 means car, 4 means business, 5 means domestic appliances, 6 means repairs ,7 means vacation/others.to do easy for visulization above we convert our categorical variables into numerical.from above figure we can clearly see Cars highly distributed than other purposes."
   ]
  },
  {
   "cell_type": "code",
   "execution_count": 53,
   "id": "d24345bb",
   "metadata": {},
   "outputs": [
    {
     "data": {
      "image/png": "[encoded data removed]",
      "text/plain": [
       "<Figure size 360x360 with 1 Axes>"
      ]
     },
     "metadata": {
      "needs_background": "light"
     },
     "output_type": "display_data"
    }
   ],
   "source": [
    "sns.displot(x = \"Saving accounts\", data = German_Credit, color = 'green')\n",
    "plt.title(\"Distribution of Saving Accounts Variables\")\n",
    "plt.show()"
   ]
  },
  {
   "cell_type": "markdown",
   "id": "54afccca",
   "metadata": {},
   "source": [
    "* From Above Figure we can see the little Saving accounts is highly distributed than other other Saving Accounts."
   ]
  },
  {
   "cell_type": "code",
   "execution_count": null,
   "id": "09f6436c",
   "metadata": {},
   "outputs": [],
   "source": []
  },
  {
   "cell_type": "code",
   "execution_count": null,
   "id": "70a15195",
   "metadata": {},
   "outputs": [],
   "source": []
  }
 ],
 "metadata": {
  "kernelspec": {
   "display_name": "Python 3 (ipykernel)",
   "language": "python",
   "name": "python3"
  },
  "language_info": {
   "codemirror_mode": {
    "name": "ipython",
    "version": 3
   },
   "file_extension": ".py",
   "mimetype": "text/x-python",
   "name": "python",
   "nbconvert_exporter": "python",
   "pygments_lexer": "ipython3",
   "version": "3.9.7"
  }
 },
 "nbformat": 4,
 "nbformat_minor": 5
}
